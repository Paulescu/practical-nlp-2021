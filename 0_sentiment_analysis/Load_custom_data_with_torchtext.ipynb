{
 "cells": [
  {
   "cell_type": "markdown",
   "metadata": {},
   "source": [
    "# Learnings\n",
    "\n",
    "`torchtext.data.Field`\n",
    "\n",
    "`torchtext.data.TabularDataset`\n",
    "\n",
    "`torchtext.data.BucketIterator`"
   ]
  },
  {
   "cell_type": "markdown",
   "metadata": {},
   "source": [
    "# Example 1\n",
    "\n",
    "Machine translation English <--> German.\n",
    "Original dataset is a parallel corpus of sentences in English and German.\n",
    "One file contains the sorted sentences for each language.\n",
    "\n",
    "File processing is necessary to have the raw input data stored in a single JSON file."
   ]
  },
  {
   "cell_type": "markdown",
   "metadata": {},
   "source": [
    "## Save data as JSON"
   ]
  },
  {
   "cell_type": "code",
   "execution_count": 1,
   "metadata": {},
   "outputs": [],
   "source": [
    "import pandas as pd\n",
    "from sklearn.model_selection import train_test_split\n",
    "\n",
    "english_txt = open('train.en', encoding='utf8').read().split('\\n')\n",
    "german_txt = open('train.de', encoding='utf8').read().split('\\n')\n",
    "\n",
    "raw_data = {\n",
    "    'english': [line for line in english_txt[:1000]],\n",
    "    'german': [line for line in german_txt[:1000]],\n",
    "}\n",
    "\n",
    "df = pd.DataFrame(raw_data, columns=['english', 'german'])\n",
    "train, test = train_test_split(df, test_size=0.2)\n",
    "\n",
    "train.to_json('train.json', orient='records', lines=True)\n",
    "test.to_json('test.json', orient='records', lines=True)"
   ]
  },
  {
   "cell_type": "markdown",
   "metadata": {},
   "source": [
    "## Load data from JSON using torchtext declarative API"
   ]
  },
  {
   "cell_type": "markdown",
   "metadata": {},
   "source": [
    "## Define tokenization functions"
   ]
  },
  {
   "cell_type": "code",
   "execution_count": null,
   "metadata": {},
   "outputs": [],
   "source": [
    "import spacy\n",
    "\n",
    "# Before run this in terminal: python -m spacy download en\n",
    "spacy_eng = spacy.load('en')\n",
    "spacy_ger = spacy.load('de')\n",
    "\n",
    "def tokenize_eng(text):\n",
    "    return [tok.text for tok in spacy_eng.tokenizer(text)]\n",
    "\n",
    "def tokenize_ger(text):\n",
    "    return [tok.text for tok in spacy_ger.tokenizer(text)]"
   ]
  },
  {
   "cell_type": "code",
   "execution_count": 16,
   "metadata": {},
   "outputs": [
    {
     "name": "stdout",
     "output_type": "stream",
     "text": [
      "\n",
      "[torchtext.data.batch.Batch of size 32]\n",
      "\t[.eng]:[torch.LongTensor of size 97x32]\n",
      "\t[.ger]:[torch.LongTensor of size 83x32]\n"
     ]
    }
   ],
   "source": [
    "from torchtext.data import Field, BucketIterator, TabularDataset\n",
    "\n",
    "# Fields define a datatype together with the instructions for transforming to tensor\n",
    "english = Field(sequential=True, use_vocab=True, tokenize=tokenize_eng, lower=True)\n",
    "german = Field(sequential=True, use_vocab=True, tokenize=tokenize_ger, lower=True)\n",
    "\n",
    "fields = {'english': ('eng', english), 'german': ('ger', german)}\n",
    "\n",
    "train_data, test_data = TabularDataset.splits(\n",
    "    path='',\n",
    "    train='train.json',\n",
    "    test='test.json',\n",
    "    format='json',\n",
    "    fields=fields,\n",
    ")\n",
    "\n",
    "english.build_vocab(train_data, max_size=10000, min_freq=2)\n",
    "german.build_vocab(train_data, max_size=10000, min_freq=2)\n",
    "\n",
    "train_iterator, test_iterator = BucketIterator.splits(\n",
    "    (train_data, test_data),\n",
    "    batch_size=32,\n",
    "#     device='cuda'\n",
    ")\n",
    "\n",
    "for batch in train_iterator:\n",
    "    print(batch)\n",
    "    break"
   ]
  },
  {
   "cell_type": "code",
   "execution_count": 12,
   "metadata": {},
   "outputs": [
    {
     "name": "stdout",
     "output_type": "stream",
     "text": [
      "<class 'torchtext.data.dataset.TabularDataset'>\n",
      "<torchtext.data.example.Example object at 0x1991e0750>\n",
      "800\n",
      "200\n"
     ]
    }
   ],
   "source": [
    "print(type(train_data))\n",
    "print(train_data[0])\n",
    "print(len(train_data))\n",
    "print(len(test_data))"
   ]
  },
  {
   "cell_type": "markdown",
   "metadata": {},
   "source": [
    "------"
   ]
  },
  {
   "cell_type": "markdown",
   "metadata": {},
   "source": [
    "# Example 2"
   ]
  },
  {
   "cell_type": "code",
   "execution_count": null,
   "metadata": {},
   "outputs": [],
   "source": []
  }
 ],
 "metadata": {
  "kernelspec": {
   "display_name": "Python 3",
   "language": "python",
   "name": "python3"
  },
  "language_info": {
   "codemirror_mode": {
    "name": "ipython",
    "version": 3
   },
   "file_extension": ".py",
   "mimetype": "text/x-python",
   "name": "python",
   "nbconvert_exporter": "python",
   "pygments_lexer": "ipython3",
   "version": "3.7.5"
  }
 },
 "nbformat": 4,
 "nbformat_minor": 4
}
