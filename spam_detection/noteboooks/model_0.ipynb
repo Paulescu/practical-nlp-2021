{
 "cells": [
  {
   "cell_type": "markdown",
   "metadata": {},
   "source": [
    "# How to painlessly transform an NLP model in Jupyter to a production API?"
   ]
  },
  {
   "cell_type": "markdown",
   "metadata": {},
   "source": [
    "# [SMS Spam Collection Data Set](https://archive.ics.uci.edu/ml/datasets/sms+spam+collection)"
   ]
  },
  {
   "cell_type": "markdown",
   "metadata": {},
   "source": [
    "<img src=\"https://archive.ics.uci.edu/ml/assets/logo.gif\" align='left' />"
   ]
  },
  {
   "cell_type": "markdown",
   "metadata": {},
   "source": [
    "# Bag-of-words model with word embeddings learned from scratch"
   ]
  },
  {
   "cell_type": "markdown",
   "metadata": {},
   "source": [
    "<a href=\"https://colab.research.google.com/github/Paulescu/practical-nlp-2021/blob/main/spam_detection/noteboooks/model.ipynb\">\n",
    "  <img src=\"https://colab.research.google.com/assets/colab-badge.svg\" alt=\"Open In Colab\" align=\"left\"/>\n",
    "</a>"
   ]
  },
  {
   "cell_type": "markdown",
   "metadata": {},
   "source": [
    "### Required setup if you run the notebook in Google Colab"
   ]
  },
  {
   "cell_type": "code",
   "execution_count": 1,
   "metadata": {},
   "outputs": [],
   "source": [
    "# # you need to paste the URL of your Github repo here if you want to run this notebook in Google Colab.\n",
    "# URL_GITHUB_REPO = 'https://github.com/Paulescu/practical-nlp-2021'\n",
    "\n",
    "# # a hacky way to check if the current notebook is running in Google Colab.\n",
    "# if 'google.colab' in str(get_ipython()):\n",
    "#     # we are running notebook in Colab\n",
    "#     !git clone $URL_GITHUB_REPO\n",
    "#     !cd .. && python setup.py develop\n",
    "# else:\n",
    "#     print('Python setup skiped.')"
   ]
  },
  {
   "cell_type": "markdown",
   "metadata": {},
   "source": [
    "# Step 1. Download data and split into train, validation and test\n",
    "\n",
    "The dataset can be found [here](https://archive.ics.uci.edu/ml/datasets/sms+spam+collection)"
   ]
  },
  {
   "cell_type": "markdown",
   "metadata": {},
   "source": [
    "### Download raw data"
   ]
  },
  {
   "cell_type": "code",
   "execution_count": 1,
   "metadata": {},
   "outputs": [
    {
     "name": "stdout",
     "output_type": "stream",
     "text": [
      "--2020-12-10 18:51:54--  https://archive.ics.uci.edu/ml/machine-learning-databases/00228/smsspamcollection.zip\n",
      "Resolving archive.ics.uci.edu (archive.ics.uci.edu)... 128.195.10.252\n",
      "Connecting to archive.ics.uci.edu (archive.ics.uci.edu)|128.195.10.252|:443... connected.\n",
      "HTTP request sent, awaiting response... 200 OK\n",
      "Length: 203415 (199K) [application/x-httpd-php]\n",
      "Saving to: ‘smsspamcollection.zip.2’\n",
      "\n",
      "smsspamcollection.z 100%[===================>] 198.65K   271KB/s    in 0.7s    \n",
      "\n",
      "2020-12-10 18:51:56 (271 KB/s) - ‘smsspamcollection.zip.2’ saved [203415/203415]\n",
      "\n"
     ]
    }
   ],
   "source": [
    "!wget https://archive.ics.uci.edu/ml/machine-learning-databases/00228/smsspamcollection.zip\n",
    "!tar -xf smsspamcollection.zip"
   ]
  },
  {
   "cell_type": "markdown",
   "metadata": {},
   "source": [
    "### Quick data exploration"
   ]
  },
  {
   "cell_type": "code",
   "execution_count": 2,
   "metadata": {},
   "outputs": [],
   "source": [
    "import pandas as pd\n",
    "\n",
    "data = pd.read_csv('SMSSpamCollection', sep='\\t', header=None)\n",
    "data.columns = ['label', 'text']"
   ]
  },
  {
   "cell_type": "code",
   "execution_count": 3,
   "metadata": {},
   "outputs": [
    {
     "data": {
      "text/html": [
       "<div>\n",
       "<style scoped>\n",
       "    .dataframe tbody tr th:only-of-type {\n",
       "        vertical-align: middle;\n",
       "    }\n",
       "\n",
       "    .dataframe tbody tr th {\n",
       "        vertical-align: top;\n",
       "    }\n",
       "\n",
       "    .dataframe thead th {\n",
       "        text-align: right;\n",
       "    }\n",
       "</style>\n",
       "<table border=\"1\" class=\"dataframe\">\n",
       "  <thead>\n",
       "    <tr style=\"text-align: right;\">\n",
       "      <th></th>\n",
       "      <th>label</th>\n",
       "      <th>text</th>\n",
       "    </tr>\n",
       "  </thead>\n",
       "  <tbody>\n",
       "    <tr>\n",
       "      <th>0</th>\n",
       "      <td>ham</td>\n",
       "      <td>Go until jurong point, crazy.. Available only ...</td>\n",
       "    </tr>\n",
       "    <tr>\n",
       "      <th>1</th>\n",
       "      <td>ham</td>\n",
       "      <td>Ok lar... Joking wif u oni...</td>\n",
       "    </tr>\n",
       "    <tr>\n",
       "      <th>2</th>\n",
       "      <td>spam</td>\n",
       "      <td>Free entry in 2 a wkly comp to win FA Cup fina...</td>\n",
       "    </tr>\n",
       "    <tr>\n",
       "      <th>3</th>\n",
       "      <td>ham</td>\n",
       "      <td>U dun say so early hor... U c already then say...</td>\n",
       "    </tr>\n",
       "    <tr>\n",
       "      <th>4</th>\n",
       "      <td>ham</td>\n",
       "      <td>Nah I don't think he goes to usf, he lives aro...</td>\n",
       "    </tr>\n",
       "  </tbody>\n",
       "</table>\n",
       "</div>"
      ],
      "text/plain": [
       "  label                                               text\n",
       "0   ham  Go until jurong point, crazy.. Available only ...\n",
       "1   ham                      Ok lar... Joking wif u oni...\n",
       "2  spam  Free entry in 2 a wkly comp to win FA Cup fina...\n",
       "3   ham  U dun say so early hor... U c already then say...\n",
       "4   ham  Nah I don't think he goes to usf, he lives aro..."
      ]
     },
     "execution_count": 3,
     "metadata": {},
     "output_type": "execute_result"
    }
   ],
   "source": [
    "data.head()"
   ]
  },
  {
   "cell_type": "code",
   "execution_count": 4,
   "metadata": {},
   "outputs": [
    {
     "data": {
      "text/plain": [
       "ham     0.865937\n",
       "spam    0.134063\n",
       "Name: label, dtype: float64"
      ]
     },
     "execution_count": 4,
     "metadata": {},
     "output_type": "execute_result"
    }
   ],
   "source": [
    "data['label'].value_counts(normalize=True)"
   ]
  },
  {
   "cell_type": "markdown",
   "metadata": {},
   "source": [
    "### Add numeric column for the label"
   ]
  },
  {
   "cell_type": "code",
   "execution_count": 5,
   "metadata": {},
   "outputs": [
    {
     "data": {
      "text/html": [
       "<div>\n",
       "<style scoped>\n",
       "    .dataframe tbody tr th:only-of-type {\n",
       "        vertical-align: middle;\n",
       "    }\n",
       "\n",
       "    .dataframe tbody tr th {\n",
       "        vertical-align: top;\n",
       "    }\n",
       "\n",
       "    .dataframe thead th {\n",
       "        text-align: right;\n",
       "    }\n",
       "</style>\n",
       "<table border=\"1\" class=\"dataframe\">\n",
       "  <thead>\n",
       "    <tr style=\"text-align: right;\">\n",
       "      <th></th>\n",
       "      <th>label</th>\n",
       "      <th>text</th>\n",
       "      <th>label_int</th>\n",
       "    </tr>\n",
       "  </thead>\n",
       "  <tbody>\n",
       "    <tr>\n",
       "      <th>0</th>\n",
       "      <td>ham</td>\n",
       "      <td>Go until jurong point, crazy.. Available only ...</td>\n",
       "      <td>0</td>\n",
       "    </tr>\n",
       "    <tr>\n",
       "      <th>1</th>\n",
       "      <td>ham</td>\n",
       "      <td>Ok lar... Joking wif u oni...</td>\n",
       "      <td>0</td>\n",
       "    </tr>\n",
       "    <tr>\n",
       "      <th>2</th>\n",
       "      <td>spam</td>\n",
       "      <td>Free entry in 2 a wkly comp to win FA Cup fina...</td>\n",
       "      <td>1</td>\n",
       "    </tr>\n",
       "    <tr>\n",
       "      <th>3</th>\n",
       "      <td>ham</td>\n",
       "      <td>U dun say so early hor... U c already then say...</td>\n",
       "      <td>0</td>\n",
       "    </tr>\n",
       "    <tr>\n",
       "      <th>4</th>\n",
       "      <td>ham</td>\n",
       "      <td>Nah I don't think he goes to usf, he lives aro...</td>\n",
       "      <td>0</td>\n",
       "    </tr>\n",
       "  </tbody>\n",
       "</table>\n",
       "</div>"
      ],
      "text/plain": [
       "  label                                               text  label_int\n",
       "0   ham  Go until jurong point, crazy.. Available only ...          0\n",
       "1   ham                      Ok lar... Joking wif u oni...          0\n",
       "2  spam  Free entry in 2 a wkly comp to win FA Cup fina...          1\n",
       "3   ham  U dun say so early hor... U c already then say...          0\n",
       "4   ham  Nah I don't think he goes to usf, he lives aro...          0"
      ]
     },
     "execution_count": 5,
     "metadata": {},
     "output_type": "execute_result"
    }
   ],
   "source": [
    "IDX_TO_LABEL = {\n",
    "    0: 'ham',\n",
    "    1: 'spam',\n",
    "}\n",
    "\n",
    "LABEL_TO_IDX = {\n",
    "    'ham': 0,\n",
    "    'spam': 1,\n",
    "}\n",
    "\n",
    "data['label_int'] = data['label'].apply(lambda x: LABEL_TO_IDX[x])\n",
    "data.head()"
   ]
  },
  {
   "cell_type": "markdown",
   "metadata": {},
   "source": [
    "### Split data into files `train.csv` , `validation.csv`, `test.csv`"
   ]
  },
  {
   "cell_type": "code",
   "execution_count": 6,
   "metadata": {},
   "outputs": [
    {
     "name": "stdout",
     "output_type": "stream",
     "text": [
      "train_data:  3565\n",
      "validation_data:  892\n",
      "test_data:  1115\n"
     ]
    }
   ],
   "source": [
    "from sklearn.model_selection import train_test_split\n",
    "\n",
    "train_data, test_data = train_test_split(data, test_size=0.20, random_state=123,)\n",
    "train_data, validation_data = train_test_split(train_data, test_size=0.20, random_state=123)\n",
    "\n",
    "print('train_data: ', len(train_data))\n",
    "print('validation_data: ', len(validation_data))\n",
    "print('test_data: ', len(test_data))\n",
    "\n",
    "train_data[['label_int', 'text']].to_csv('train.csv', index=False, header=False)\n",
    "validation_data[['label_int', 'text']].to_csv('validation.csv', index=False, header=False)\n",
    "test_data[['label_int', 'text']].to_csv('test.csv', index=False, header=False)"
   ]
  },
  {
   "cell_type": "markdown",
   "metadata": {},
   "source": [
    "# Step 2. Define PyTorch `DataLoader`s for train, validation, and test."
   ]
  },
  {
   "cell_type": "code",
   "execution_count": 7,
   "metadata": {
    "scrolled": true
   },
   "outputs": [],
   "source": [
    "import spacy\n",
    "try:\n",
    "    spacy_eng = spacy.load('en')\n",
    "except:\n",
    "    print('Downloading spacy resources for English')\n",
    "    !python -m spacy download en\n",
    "    spacy_eng = spacy.load('en')"
   ]
  },
  {
   "cell_type": "code",
   "execution_count": 8,
   "metadata": {},
   "outputs": [
    {
     "name": "stderr",
     "output_type": "stream",
     "text": [
      "/Users/paulabartabajo/src/online-courses/practical-nlp-2021/spam_detection/.venv/lib/python3.7/site-packages/torchtext/data/field.py:150: UserWarning: Field class will be retired soon and moved to torchtext.legacy. Please see the most recent release notes for further information.\n",
      "  warnings.warn('{} class will be retired soon and moved to torchtext.legacy. Please see the most recent release notes for further information.'.format(self.__class__.__name__), UserWarning)\n",
      "/Users/paulabartabajo/src/online-courses/practical-nlp-2021/spam_detection/.venv/lib/python3.7/site-packages/torchtext/data/example.py:68: UserWarning: Example class will be retired soon and moved to torchtext.legacy. Please see the most recent release notes for further information.\n",
      "  warnings.warn('Example class will be retired soon and moved to torchtext.legacy. Please see the most recent release notes for further information.', UserWarning)\n",
      "/Users/paulabartabajo/src/online-courses/practical-nlp-2021/spam_detection/.venv/lib/python3.7/site-packages/torchtext/data/example.py:78: UserWarning: Example class will be retired soon and moved to torchtext.legacy. Please see the most recent release notes for further information.\n",
      "  warnings.warn('Example class will be retired soon and moved to torchtext.legacy. Please see the most recent release notes for further information.', UserWarning)\n"
     ]
    },
    {
     "name": "stdout",
     "output_type": "stream",
     "text": [
      "Vocabulary size:  3337\n"
     ]
    },
    {
     "name": "stderr",
     "output_type": "stream",
     "text": [
      "/Users/paulabartabajo/src/online-courses/practical-nlp-2021/spam_detection/.venv/lib/python3.7/site-packages/torchtext/data/iterator.py:48: UserWarning: BucketIterator class will be retired soon and moved to torchtext.legacy. Please see the most recent release notes for further information.\n",
      "  warnings.warn('{} class will be retired soon and moved to torchtext.legacy. Please see the most recent release notes for further information.'.format(self.__class__.__name__), UserWarning)\n"
     ]
    }
   ],
   "source": [
    "import torch\n",
    "from torchtext.data import Field, TabularDataset, BucketIterator\n",
    "\n",
    "def tokenizer_fn(text):\n",
    "    # Input: \"Come to see me!\"\n",
    "    # Output: \"['Come', 'to', 'see', 'me', '!']\"\n",
    "    return [tok.text for tok in spacy_eng.tokenizer(text)]\n",
    "\n",
    "# Create PyTorch Datasets from train.csv, validation.csv, test.csv\n",
    "TEXT = Field(sequential=True, tokenize=tokenizer_fn, lower=True, batch_first=True)\n",
    "LABEL = Field(sequential=False, use_vocab=False)\n",
    "\n",
    "train, validation, test = TabularDataset.splits(\n",
    "    path='',\n",
    "    train='train.csv',\n",
    "    validation='validation.csv',\n",
    "    test='test.csv',\n",
    "    format='csv',\n",
    "    skip_header=False,\n",
    "    fields=[('label', LABEL), ('text', TEXT)],\n",
    ")\n",
    "\n",
    "# Build the vocabulary using the train dataset\n",
    "TEXT.build_vocab(train, max_size=10000, min_freq=2)\n",
    "vocab_size = len(TEXT.vocab) # we will need this later\n",
    "print('Vocabulary size: ', vocab_size)\n",
    "\n",
    "# Create PyTorch DataLoaders for train, validation, test\n",
    "DEVICE = torch.device(\"cuda\" if torch.cuda.is_available() else \"cpu\")\n",
    "BATCH_SIZE = 128\n",
    "train_iter, validation_iter, test_iter = BucketIterator.splits(\n",
    "    (train, validation, test),\n",
    "    batch_sizes=(BATCH_SIZE, BATCH_SIZE, BATCH_SIZE),\n",
    "    device=DEVICE,\n",
    "    sort_key=lambda x: len(x.text),\n",
    "    sort_within_batch=True,\n",
    ")"
   ]
  },
  {
   "cell_type": "markdown",
   "metadata": {},
   "source": [
    "#### Check output from `Dataloader`"
   ]
  },
  {
   "cell_type": "code",
   "execution_count": 9,
   "metadata": {},
   "outputs": [
    {
     "name": "stdout",
     "output_type": "stream",
     "text": [
      "tensor([[  46,    4,   27,  ..., 2665,   16,  331],\n",
      "        [  85,  131,    2,  ...,  131,  635,   15],\n",
      "        [  13,   98,  333,  ...,    0,    0,    2],\n",
      "        ...,\n",
      "        [  24,  169,  278,  ...,  249,    1,    1],\n",
      "        [ 393,    0,  279,  ...,   11,    1,    1],\n",
      "        [ 130,   21,   55,  ...,    2,    1,    1]])\n",
      "tensor([0, 0, 0, 0, 0, 0, 0, 0, 0, 0, 0, 0, 0, 0, 0, 0, 0, 0, 0, 0, 0, 0, 0, 1,\n",
      "        0, 0, 0, 0, 0, 0, 0, 0, 0, 0, 0, 0, 0, 0, 0, 0, 0, 0, 0, 1, 0, 0, 0, 0,\n",
      "        0, 0, 0, 0, 0, 0, 0, 0, 0, 0, 0, 0, 0, 0, 0, 0, 0, 0, 0, 0, 0, 0, 0, 0,\n",
      "        0, 0, 0, 0, 0, 0, 0, 0, 0, 0, 0, 0, 0, 0, 0, 0, 0, 0, 0, 0, 0, 0, 0, 0,\n",
      "        0, 0, 0, 0, 0, 0, 0, 0, 0, 0, 0, 0, 0, 0, 1, 0, 0, 0, 0, 0, 0, 0, 0, 0,\n",
      "        0, 0, 0, 0, 0, 0, 0, 0])\n"
     ]
    },
    {
     "name": "stderr",
     "output_type": "stream",
     "text": [
      "/Users/paulabartabajo/src/online-courses/practical-nlp-2021/spam_detection/.venv/lib/python3.7/site-packages/torchtext/data/batch.py:23: UserWarning: Batch class will be retired soon and moved to torchtext.legacy. Please see the most recent release notes for further information.\n",
      "  warnings.warn('{} class will be retired soon and moved to torchtext.legacy. Please see the most recent release notes for further information.'.format(self.__class__.__name__), UserWarning)\n"
     ]
    }
   ],
   "source": [
    "train_input = next(iter(train_iter))\n",
    "\n",
    "print(train_input.text)\n",
    "print(train_input.label)"
   ]
  },
  {
   "cell_type": "code",
   "execution_count": 10,
   "metadata": {
    "scrolled": true
   },
   "outputs": [
    {
     "name": "stdout",
     "output_type": "stream",
     "text": [
      "text:  ['mom', 'wants', 'to', 'know', 'where', 'you', 'at']\n",
      "label:  0\n",
      "---\n",
      "text:  ['boy', ';', 'i', 'love', 'u', 'grl', ':', 'hogolo', 'boy', ':', 'gold', 'chain', 'kodstini', 'grl', ':', 'agalla', 'boy', ':', 'necklace', 'madstini', 'grl', ':', 'agalla', 'boy', ':', 'hogli', '1', 'mutai', 'eerulli', 'kodthini', '!', 'grl', ':', 'i', 'love', 'u', 'kano;-', ')']\n",
      "label:  0\n",
      "---\n",
      "text:  ['its', 'on', 'in', 'engalnd', '!', 'but', 'telly', 'has', 'decided', 'it', 'wo', \"n't\", 'let', 'me', 'watch', 'it', 'and', 'mia', 'and', 'elliot', 'were', 'kissing', '!', 'damn', 'it', '!']\n",
      "label:  0\n",
      "---\n",
      "text:  ['your', 'gon', 'na', 'have', 'to', 'pick', 'up', 'a', '$', '1', 'burger', 'for', 'yourself', 'on', 'your', 'way', 'home', '.', 'i', 'ca', \"n't\", 'even', 'move', '.', 'pain', 'is', 'killing', 'me', '.']\n",
      "label:  0\n",
      "---\n",
      "text:  ['no', 'no:)this', 'is', 'kallis', 'home', 'ground.amla', 'home', 'town', 'is', 'durban', ':', ')']\n",
      "label:  0\n",
      "---\n",
      "text:  ['i', 'am', 'seeking', 'a', 'lady', 'in', 'the', 'street', 'and', 'a', 'freak', 'in', 'the', 'sheets', '.', 'is', 'that', 'you', '?']\n",
      "label:  0\n",
      "---\n",
      "text:  ['yeah', ',', 'in', 'fact', 'he', 'just', 'asked', 'if', 'we', 'needed', 'anything', 'like', 'an', 'hour', 'ago', '.', 'when', 'and', 'how', 'much', '?']\n",
      "label:  0\n",
      "---\n",
      "text:  ['where', 'r', 'we', 'meeting', '?']\n",
      "label:  0\n",
      "---\n",
      "text:  ['wat', 'makes', 'some', 'people', 'dearer', 'is', 'not', 'just', 'de', 'happiness', 'dat', 'u', 'feel', 'when', 'u', 'meet', 'them', 'but', 'de', 'pain', 'u', 'feel', 'when', 'u', 'miss', 'dem', '!', '!', '!']\n",
      "label:  0\n",
      "---\n",
      "text:  ['ok', 'lar', '...', 'joking', 'wif', 'u', 'oni', '...']\n",
      "label:  0\n",
      "---\n"
     ]
    }
   ],
   "source": [
    "for i in range(10):\n",
    "    print('text: ', train[i].text)\n",
    "    print('label: ', train[i].label)\n",
    "    print('---')"
   ]
  },
  {
   "cell_type": "markdown",
   "metadata": {},
   "source": [
    "# Step 3. Define the neural net model"
   ]
  },
  {
   "cell_type": "code",
   "execution_count": 11,
   "metadata": {},
   "outputs": [],
   "source": [
    "# TODO: add diagram here"
   ]
  },
  {
   "cell_type": "code",
   "execution_count": 16,
   "metadata": {},
   "outputs": [],
   "source": [
    "import torch.nn as nn\n",
    "import torch.nn.functional as F\n",
    "    \n",
    "class Model(nn.Module):\n",
    "    \n",
    "    def __init__(self, vocab_size: int, embedding_dim: int):\n",
    "        super(Model, self).__init__()\n",
    "        self.embed = nn.Embedding(vocab_size, embedding_dim)\n",
    "        self.global_avg_pooling = lambda x: torch.mean(x, dim=-2)\n",
    "        self.fc1 = nn.Linear(embedding_dim, 16)\n",
    "        self.fc2 = nn.Linear(16, 2)\n",
    "        \n",
    "    def forward(self, x):\n",
    "        x = self.embed(x)\n",
    "        x = self.global_avg_pooling(x)\n",
    "\n",
    "        x = F.relu(self.fc1(x))\n",
    "        x = self.fc2(x)\n",
    "        \n",
    "        return x\n",
    "\n",
    "EMBEDDING_DIM = 16\n",
    "model = Model(vocab_size, EMBEDDING_DIM).to(DEVICE)"
   ]
  },
  {
   "cell_type": "markdown",
   "metadata": {},
   "source": [
    "# Step 4. Train the model"
   ]
  },
  {
   "cell_type": "markdown",
   "metadata": {},
   "source": [
    "### Loss function and optimizer"
   ]
  },
  {
   "cell_type": "code",
   "execution_count": 17,
   "metadata": {},
   "outputs": [],
   "source": [
    "import torch.optim as optim\n",
    "\n",
    "criterion = nn.CrossEntropyLoss()\n",
    "optimizer = optim.Adam(model.parameters(), lr=3e-4)"
   ]
  },
  {
   "cell_type": "markdown",
   "metadata": {},
   "source": [
    "### Launch Tensorboard"
   ]
  },
  {
   "cell_type": "code",
   "execution_count": 18,
   "metadata": {},
   "outputs": [
    {
     "name": "stdout",
     "output_type": "stream",
     "text": [
      "The tensorboard extension is already loaded. To reload it, use:\n",
      "  %reload_ext tensorboard\n"
     ]
    },
    {
     "data": {
      "text/plain": [
       "Reusing TensorBoard on port 6008 (pid 79472), started 1:26:00 ago. (Use '!kill 79472' to kill it.)"
      ]
     },
     "metadata": {},
     "output_type": "display_data"
    },
    {
     "data": {
      "text/html": [
       "\n",
       "      <iframe id=\"tensorboard-frame-8157fc7682f0c7e3\" width=\"100%\" height=\"800\" frameborder=\"0\">\n",
       "      </iframe>\n",
       "      <script>\n",
       "        (function() {\n",
       "          const frame = document.getElementById(\"tensorboard-frame-8157fc7682f0c7e3\");\n",
       "          const url = new URL(\"/\", window.location);\n",
       "          const port = 6008;\n",
       "          if (port) {\n",
       "            url.port = port;\n",
       "          }\n",
       "          frame.src = url;\n",
       "        })();\n",
       "      </script>\n",
       "    "
      ],
      "text/plain": [
       "<IPython.core.display.HTML object>"
      ]
     },
     "metadata": {},
     "output_type": "display_data"
    }
   ],
   "source": [
    "%load_ext tensorboard\n",
    "%tensorboard --logdir runs"
   ]
  },
  {
   "cell_type": "markdown",
   "metadata": {},
   "source": [
    "### Train loop"
   ]
  },
  {
   "cell_type": "code",
   "execution_count": 19,
   "metadata": {
    "scrolled": true
   },
   "outputs": [
    {
     "name": "stderr",
     "output_type": "stream",
     "text": [
      "100%|██████████| 28/28 [00:00<00:00, 104.00it/s]\n",
      " 43%|████▎     | 12/28 [00:00<00:00, 112.39it/s]"
     ]
    },
    {
     "name": "stdout",
     "output_type": "stream",
     "text": [
      "\n",
      "Epoch: 0\n",
      "Loss \t Train: 0.7787 \t Validation: 0.7616\n",
      "Acc: \t Train: 0.1380 \t Validation: 0.1155\n"
     ]
    },
    {
     "name": "stderr",
     "output_type": "stream",
     "text": [
      "100%|██████████| 28/28 [00:00<00:00, 106.41it/s]\n",
      " 25%|██▌       | 7/28 [00:00<00:00, 65.49it/s]"
     ]
    },
    {
     "name": "stdout",
     "output_type": "stream",
     "text": [
      "\n",
      "Epoch: 1\n",
      "Loss \t Train: 0.7566 \t Validation: 0.7395\n",
      "Acc: \t Train: 0.1386 \t Validation: 0.1244\n"
     ]
    },
    {
     "name": "stderr",
     "output_type": "stream",
     "text": [
      "100%|██████████| 28/28 [00:00<00:00, 103.80it/s]\n",
      " 46%|████▋     | 13/28 [00:00<00:00, 125.95it/s]"
     ]
    },
    {
     "name": "stdout",
     "output_type": "stream",
     "text": [
      "\n",
      "Epoch: 2\n",
      "Loss \t Train: 0.7363 \t Validation: 0.7175\n",
      "Acc: \t Train: 0.1686 \t Validation: 0.2309\n"
     ]
    },
    {
     "name": "stderr",
     "output_type": "stream",
     "text": [
      "100%|██████████| 28/28 [00:00<00:00, 103.60it/s]\n",
      " 21%|██▏       | 6/28 [00:00<00:00, 55.98it/s]"
     ]
    },
    {
     "name": "stdout",
     "output_type": "stream",
     "text": [
      "\n",
      "Epoch: 3\n",
      "Loss \t Train: 0.7161 \t Validation: 0.6953\n",
      "Acc: \t Train: 0.2985 \t Validation: 0.4697\n"
     ]
    },
    {
     "name": "stderr",
     "output_type": "stream",
     "text": [
      "100%|██████████| 28/28 [00:00<00:00, 106.95it/s]\n",
      " 29%|██▊       | 8/28 [00:00<00:00, 73.91it/s]"
     ]
    },
    {
     "name": "stdout",
     "output_type": "stream",
     "text": [
      "\n",
      "Epoch: 4\n",
      "Loss \t Train: 0.6952 \t Validation: 0.6713\n",
      "Acc: \t Train: 0.4987 \t Validation: 0.7209\n"
     ]
    },
    {
     "name": "stderr",
     "output_type": "stream",
     "text": [
      "100%|██████████| 28/28 [00:00<00:00, 104.43it/s]\n",
      " 43%|████▎     | 12/28 [00:00<00:00, 91.05it/s]"
     ]
    },
    {
     "name": "stdout",
     "output_type": "stream",
     "text": [
      "\n",
      "Epoch: 5\n",
      "Loss \t Train: 0.6733 \t Validation: 0.6457\n",
      "Acc: \t Train: 0.6743 \t Validation: 0.8296\n"
     ]
    },
    {
     "name": "stderr",
     "output_type": "stream",
     "text": [
      "100%|██████████| 28/28 [00:00<00:00, 107.32it/s]\n",
      " 25%|██▌       | 7/28 [00:00<00:00, 67.66it/s]"
     ]
    },
    {
     "name": "stdout",
     "output_type": "stream",
     "text": [
      "\n",
      "Epoch: 6\n",
      "Loss \t Train: 0.6500 \t Validation: 0.6189\n",
      "Acc: \t Train: 0.7792 \t Validation: 0.8643\n"
     ]
    },
    {
     "name": "stderr",
     "output_type": "stream",
     "text": [
      "100%|██████████| 28/28 [00:00<00:00, 106.17it/s]\n",
      " 32%|███▏      | 9/28 [00:00<00:00, 88.31it/s]"
     ]
    },
    {
     "name": "stdout",
     "output_type": "stream",
     "text": [
      "\n",
      "Epoch: 7\n",
      "Loss \t Train: 0.6255 \t Validation: 0.5897\n",
      "Acc: \t Train: 0.8168 \t Validation: 0.8823\n"
     ]
    },
    {
     "name": "stderr",
     "output_type": "stream",
     "text": [
      "100%|██████████| 28/28 [00:00<00:00, 106.16it/s]\n",
      " 50%|█████     | 14/28 [00:00<00:00, 134.38it/s]"
     ]
    },
    {
     "name": "stdout",
     "output_type": "stream",
     "text": [
      "\n",
      "Epoch: 8\n",
      "Loss \t Train: 0.5995 \t Validation: 0.5589\n",
      "Acc: \t Train: 0.8418 \t Validation: 0.8845\n"
     ]
    },
    {
     "name": "stderr",
     "output_type": "stream",
     "text": [
      "100%|██████████| 28/28 [00:00<00:00, 104.05it/s]\n",
      " 39%|███▉      | 11/28 [00:00<00:00, 106.42it/s]"
     ]
    },
    {
     "name": "stdout",
     "output_type": "stream",
     "text": [
      "\n",
      "Epoch: 9\n",
      "Loss \t Train: 0.5722 \t Validation: 0.5274\n",
      "Acc: \t Train: 0.8522 \t Validation: 0.8879\n"
     ]
    },
    {
     "name": "stderr",
     "output_type": "stream",
     "text": [
      "100%|██████████| 28/28 [00:00<00:00, 105.14it/s]\n",
      " 32%|███▏      | 9/28 [00:00<00:00, 86.78it/s]"
     ]
    },
    {
     "name": "stdout",
     "output_type": "stream",
     "text": [
      "\n",
      "Epoch: 10\n",
      "Loss \t Train: 0.5432 \t Validation: 0.4968\n",
      "Acc: \t Train: 0.8589 \t Validation: 0.8879\n"
     ]
    },
    {
     "name": "stderr",
     "output_type": "stream",
     "text": [
      "100%|██████████| 28/28 [00:00<00:00, 98.59it/s]\n",
      " 32%|███▏      | 9/28 [00:00<00:00, 74.77it/s]"
     ]
    },
    {
     "name": "stdout",
     "output_type": "stream",
     "text": [
      "\n",
      "Epoch: 11\n",
      "Loss \t Train: 0.5159 \t Validation: 0.4642\n",
      "Acc: \t Train: 0.8606 \t Validation: 0.8879\n"
     ]
    },
    {
     "name": "stderr",
     "output_type": "stream",
     "text": [
      "100%|██████████| 28/28 [00:00<00:00, 104.38it/s]\n",
      " 21%|██▏       | 6/28 [00:00<00:00, 59.01it/s]"
     ]
    },
    {
     "name": "stdout",
     "output_type": "stream",
     "text": [
      "\n",
      "Epoch: 12\n",
      "Loss \t Train: 0.4877 \t Validation: 0.4347\n",
      "Acc: \t Train: 0.8612 \t Validation: 0.8879\n"
     ]
    },
    {
     "name": "stderr",
     "output_type": "stream",
     "text": [
      "100%|██████████| 28/28 [00:00<00:00, 103.65it/s]\n",
      " 32%|███▏      | 9/28 [00:00<00:00, 74.52it/s]"
     ]
    },
    {
     "name": "stdout",
     "output_type": "stream",
     "text": [
      "\n",
      "Epoch: 13\n",
      "Loss \t Train: 0.4607 \t Validation: 0.4090\n",
      "Acc: \t Train: 0.8612 \t Validation: 0.8868\n"
     ]
    },
    {
     "name": "stderr",
     "output_type": "stream",
     "text": [
      "100%|██████████| 28/28 [00:00<00:00, 106.88it/s]\n",
      " 43%|████▎     | 12/28 [00:00<00:00, 84.56it/s]"
     ]
    },
    {
     "name": "stdout",
     "output_type": "stream",
     "text": [
      "\n",
      "Epoch: 14\n",
      "Loss \t Train: 0.4364 \t Validation: 0.3857\n",
      "Acc: \t Train: 0.8617 \t Validation: 0.8868\n"
     ]
    },
    {
     "name": "stderr",
     "output_type": "stream",
     "text": [
      "100%|██████████| 28/28 [00:00<00:00, 108.07it/s]\n",
      " 43%|████▎     | 12/28 [00:00<00:00, 112.54it/s]"
     ]
    },
    {
     "name": "stdout",
     "output_type": "stream",
     "text": [
      "\n",
      "Epoch: 15\n",
      "Loss \t Train: 0.4147 \t Validation: 0.3662\n",
      "Acc: \t Train: 0.8620 \t Validation: 0.8868\n"
     ]
    },
    {
     "name": "stderr",
     "output_type": "stream",
     "text": [
      "100%|██████████| 28/28 [00:00<00:00, 100.90it/s]\n",
      " 21%|██▏       | 6/28 [00:00<00:00, 59.12it/s]"
     ]
    },
    {
     "name": "stdout",
     "output_type": "stream",
     "text": [
      "\n",
      "Epoch: 16\n",
      "Loss \t Train: 0.3946 \t Validation: 0.3497\n",
      "Acc: \t Train: 0.8626 \t Validation: 0.8868\n"
     ]
    },
    {
     "name": "stderr",
     "output_type": "stream",
     "text": [
      "100%|██████████| 28/28 [00:00<00:00, 104.85it/s]\n",
      " 46%|████▋     | 13/28 [00:00<00:00, 114.59it/s]"
     ]
    },
    {
     "name": "stdout",
     "output_type": "stream",
     "text": [
      "\n",
      "Epoch: 17\n",
      "Loss \t Train: 0.3774 \t Validation: 0.3359\n",
      "Acc: \t Train: 0.8623 \t Validation: 0.8868\n"
     ]
    },
    {
     "name": "stderr",
     "output_type": "stream",
     "text": [
      "100%|██████████| 28/28 [00:00<00:00, 103.99it/s]\n",
      " 36%|███▌      | 10/28 [00:00<00:00, 83.14it/s]"
     ]
    },
    {
     "name": "stdout",
     "output_type": "stream",
     "text": [
      "\n",
      "Epoch: 18\n",
      "Loss \t Train: 0.3626 \t Validation: 0.3255\n",
      "Acc: \t Train: 0.8620 \t Validation: 0.8868\n"
     ]
    },
    {
     "name": "stderr",
     "output_type": "stream",
     "text": [
      "100%|██████████| 28/28 [00:00<00:00, 106.91it/s]\n",
      " 32%|███▏      | 9/28 [00:00<00:00, 72.05it/s]"
     ]
    },
    {
     "name": "stdout",
     "output_type": "stream",
     "text": [
      "\n",
      "Epoch: 19\n",
      "Loss \t Train: 0.3501 \t Validation: 0.3164\n",
      "Acc: \t Train: 0.8620 \t Validation: 0.8868\n"
     ]
    },
    {
     "name": "stderr",
     "output_type": "stream",
     "text": [
      "100%|██████████| 28/28 [00:00<00:00, 106.66it/s]\n",
      " 46%|████▋     | 13/28 [00:00<00:00, 92.94it/s]"
     ]
    },
    {
     "name": "stdout",
     "output_type": "stream",
     "text": [
      "\n",
      "Epoch: 20\n",
      "Loss \t Train: 0.3387 \t Validation: 0.3090\n",
      "Acc: \t Train: 0.8626 \t Validation: 0.8868\n"
     ]
    },
    {
     "name": "stderr",
     "output_type": "stream",
     "text": [
      "100%|██████████| 28/28 [00:00<00:00, 105.67it/s]\n",
      " 46%|████▋     | 13/28 [00:00<00:00, 118.80it/s]"
     ]
    },
    {
     "name": "stdout",
     "output_type": "stream",
     "text": [
      "\n",
      "Epoch: 21\n",
      "Loss \t Train: 0.3289 \t Validation: 0.3023\n",
      "Acc: \t Train: 0.8623 \t Validation: 0.8868\n"
     ]
    },
    {
     "name": "stderr",
     "output_type": "stream",
     "text": [
      "100%|██████████| 28/28 [00:00<00:00, 102.58it/s]\n",
      " 43%|████▎     | 12/28 [00:00<00:00, 118.10it/s]"
     ]
    },
    {
     "name": "stdout",
     "output_type": "stream",
     "text": [
      "\n",
      "Epoch: 22\n",
      "Loss \t Train: 0.3183 \t Validation: 0.2963\n",
      "Acc: \t Train: 0.8623 \t Validation: 0.8868\n"
     ]
    },
    {
     "name": "stderr",
     "output_type": "stream",
     "text": [
      "100%|██████████| 28/28 [00:00<00:00, 106.29it/s]\n",
      " 29%|██▊       | 8/28 [00:00<00:00, 70.36it/s]"
     ]
    },
    {
     "name": "stdout",
     "output_type": "stream",
     "text": [
      "\n",
      "Epoch: 23\n",
      "Loss \t Train: 0.3115 \t Validation: 0.2908\n",
      "Acc: \t Train: 0.8626 \t Validation: 0.8868\n"
     ]
    },
    {
     "name": "stderr",
     "output_type": "stream",
     "text": [
      "100%|██████████| 28/28 [00:00<00:00, 107.09it/s]\n",
      " 43%|████▎     | 12/28 [00:00<00:00, 116.03it/s]"
     ]
    },
    {
     "name": "stdout",
     "output_type": "stream",
     "text": [
      "\n",
      "Epoch: 24\n",
      "Loss \t Train: 0.3017 \t Validation: 0.2860\n",
      "Acc: \t Train: 0.8634 \t Validation: 0.8868\n"
     ]
    },
    {
     "name": "stderr",
     "output_type": "stream",
     "text": [
      "100%|██████████| 28/28 [00:00<00:00, 104.35it/s]\n",
      " 43%|████▎     | 12/28 [00:00<00:00, 118.80it/s]"
     ]
    },
    {
     "name": "stdout",
     "output_type": "stream",
     "text": [
      "\n",
      "Epoch: 25\n",
      "Loss \t Train: 0.2944 \t Validation: 0.2813\n",
      "Acc: \t Train: 0.8631 \t Validation: 0.8868\n"
     ]
    },
    {
     "name": "stderr",
     "output_type": "stream",
     "text": [
      "100%|██████████| 28/28 [00:00<00:00, 107.40it/s]\n",
      " 46%|████▋     | 13/28 [00:00<00:00, 122.57it/s]"
     ]
    },
    {
     "name": "stdout",
     "output_type": "stream",
     "text": [
      "\n",
      "Epoch: 26\n",
      "Loss \t Train: 0.2867 \t Validation: 0.2765\n",
      "Acc: \t Train: 0.8640 \t Validation: 0.8879\n"
     ]
    },
    {
     "name": "stderr",
     "output_type": "stream",
     "text": [
      "100%|██████████| 28/28 [00:00<00:00, 105.41it/s]\n",
      " 43%|████▎     | 12/28 [00:00<00:00, 116.01it/s]"
     ]
    },
    {
     "name": "stdout",
     "output_type": "stream",
     "text": [
      "\n",
      "Epoch: 27\n",
      "Loss \t Train: 0.2798 \t Validation: 0.2724\n",
      "Acc: \t Train: 0.8648 \t Validation: 0.8879\n"
     ]
    },
    {
     "name": "stderr",
     "output_type": "stream",
     "text": [
      "100%|██████████| 28/28 [00:00<00:00, 105.99it/s]\n",
      " 39%|███▉      | 11/28 [00:00<00:00, 74.18it/s]"
     ]
    },
    {
     "name": "stdout",
     "output_type": "stream",
     "text": [
      "\n",
      "Epoch: 28\n",
      "Loss \t Train: 0.2733 \t Validation: 0.2672\n",
      "Acc: \t Train: 0.8659 \t Validation: 0.8879\n"
     ]
    },
    {
     "name": "stderr",
     "output_type": "stream",
     "text": [
      "100%|██████████| 28/28 [00:00<00:00, 105.31it/s]\n",
      " 46%|████▋     | 13/28 [00:00<00:00, 94.15it/s]"
     ]
    },
    {
     "name": "stdout",
     "output_type": "stream",
     "text": [
      "\n",
      "Epoch: 29\n",
      "Loss \t Train: 0.2670 \t Validation: 0.2634\n",
      "Acc: \t Train: 0.8665 \t Validation: 0.8879\n"
     ]
    },
    {
     "name": "stderr",
     "output_type": "stream",
     "text": [
      "100%|██████████| 28/28 [00:00<00:00, 107.36it/s]\n",
      " 46%|████▋     | 13/28 [00:00<00:00, 125.40it/s]"
     ]
    },
    {
     "name": "stdout",
     "output_type": "stream",
     "text": [
      "\n",
      "Epoch: 30\n",
      "Loss \t Train: 0.2605 \t Validation: 0.2589\n",
      "Acc: \t Train: 0.8676 \t Validation: 0.8879\n"
     ]
    },
    {
     "name": "stderr",
     "output_type": "stream",
     "text": [
      "100%|██████████| 28/28 [00:00<00:00, 106.97it/s]\n",
      " 46%|████▋     | 13/28 [00:00<00:00, 88.50it/s]"
     ]
    },
    {
     "name": "stdout",
     "output_type": "stream",
     "text": [
      "\n",
      "Epoch: 31\n",
      "Loss \t Train: 0.2532 \t Validation: 0.2542\n",
      "Acc: \t Train: 0.8682 \t Validation: 0.8890\n"
     ]
    },
    {
     "name": "stderr",
     "output_type": "stream",
     "text": [
      "100%|██████████| 28/28 [00:00<00:00, 104.61it/s]\n",
      " 32%|███▏      | 9/28 [00:00<00:00, 70.89it/s]"
     ]
    },
    {
     "name": "stdout",
     "output_type": "stream",
     "text": [
      "\n",
      "Epoch: 32\n",
      "Loss \t Train: 0.2479 \t Validation: 0.2500\n",
      "Acc: \t Train: 0.8696 \t Validation: 0.8890\n"
     ]
    },
    {
     "name": "stderr",
     "output_type": "stream",
     "text": [
      "100%|██████████| 28/28 [00:00<00:00, 107.08it/s]\n",
      " 50%|█████     | 14/28 [00:00<00:00, 129.19it/s]"
     ]
    },
    {
     "name": "stdout",
     "output_type": "stream",
     "text": [
      "\n",
      "Epoch: 33\n",
      "Loss \t Train: 0.2426 \t Validation: 0.2451\n",
      "Acc: \t Train: 0.8724 \t Validation: 0.8913\n"
     ]
    },
    {
     "name": "stderr",
     "output_type": "stream",
     "text": [
      "100%|██████████| 28/28 [00:00<00:00, 108.04it/s]\n",
      " 29%|██▊       | 8/28 [00:00<00:00, 72.88it/s]"
     ]
    },
    {
     "name": "stdout",
     "output_type": "stream",
     "text": [
      "\n",
      "Epoch: 34\n",
      "Loss \t Train: 0.2367 \t Validation: 0.2414\n",
      "Acc: \t Train: 0.8738 \t Validation: 0.8924\n"
     ]
    },
    {
     "name": "stderr",
     "output_type": "stream",
     "text": [
      "100%|██████████| 28/28 [00:00<00:00, 106.69it/s]\n",
      " 46%|████▋     | 13/28 [00:00<00:00, 129.19it/s]"
     ]
    },
    {
     "name": "stdout",
     "output_type": "stream",
     "text": [
      "\n",
      "Epoch: 35\n",
      "Loss \t Train: 0.2318 \t Validation: 0.2371\n",
      "Acc: \t Train: 0.8774 \t Validation: 0.8924\n"
     ]
    },
    {
     "name": "stderr",
     "output_type": "stream",
     "text": [
      "100%|██████████| 28/28 [00:00<00:00, 106.91it/s]\n",
      " 50%|█████     | 14/28 [00:00<00:00, 136.91it/s]"
     ]
    },
    {
     "name": "stdout",
     "output_type": "stream",
     "text": [
      "\n",
      "Epoch: 36\n",
      "Loss \t Train: 0.2255 \t Validation: 0.2328\n",
      "Acc: \t Train: 0.8788 \t Validation: 0.8935\n"
     ]
    },
    {
     "name": "stderr",
     "output_type": "stream",
     "text": [
      "100%|██████████| 28/28 [00:00<00:00, 105.75it/s]\n",
      " 43%|████▎     | 12/28 [00:00<00:00, 114.90it/s]"
     ]
    },
    {
     "name": "stdout",
     "output_type": "stream",
     "text": [
      "\n",
      "Epoch: 37\n",
      "Loss \t Train: 0.2205 \t Validation: 0.2290\n",
      "Acc: \t Train: 0.8827 \t Validation: 0.8946\n"
     ]
    },
    {
     "name": "stderr",
     "output_type": "stream",
     "text": [
      "100%|██████████| 28/28 [00:00<00:00, 102.56it/s]\n",
      " 25%|██▌       | 7/28 [00:00<00:00, 67.43it/s]"
     ]
    },
    {
     "name": "stdout",
     "output_type": "stream",
     "text": [
      "\n",
      "Epoch: 38\n",
      "Loss \t Train: 0.2170 \t Validation: 0.2247\n",
      "Acc: \t Train: 0.8858 \t Validation: 0.8980\n"
     ]
    },
    {
     "name": "stderr",
     "output_type": "stream",
     "text": [
      "100%|██████████| 28/28 [00:00<00:00, 103.77it/s]\n",
      " 21%|██▏       | 6/28 [00:00<00:00, 54.85it/s]"
     ]
    },
    {
     "name": "stdout",
     "output_type": "stream",
     "text": [
      "\n",
      "Epoch: 39\n",
      "Loss \t Train: 0.2109 \t Validation: 0.2211\n",
      "Acc: \t Train: 0.8903 \t Validation: 0.8991\n"
     ]
    },
    {
     "name": "stderr",
     "output_type": "stream",
     "text": [
      "100%|██████████| 28/28 [00:00<00:00, 103.36it/s]\n",
      " 46%|████▋     | 13/28 [00:00<00:00, 120.70it/s]"
     ]
    },
    {
     "name": "stdout",
     "output_type": "stream",
     "text": [
      "\n",
      "Epoch: 40\n",
      "Loss \t Train: 0.2071 \t Validation: 0.2166\n",
      "Acc: \t Train: 0.8931 \t Validation: 0.8991\n"
     ]
    },
    {
     "name": "stderr",
     "output_type": "stream",
     "text": [
      "100%|██████████| 28/28 [00:00<00:00, 103.39it/s]\n",
      " 43%|████▎     | 12/28 [00:00<00:00, 119.22it/s]"
     ]
    },
    {
     "name": "stdout",
     "output_type": "stream",
     "text": [
      "\n",
      "Epoch: 41\n",
      "Loss \t Train: 0.2028 \t Validation: 0.2133\n",
      "Acc: \t Train: 0.8954 \t Validation: 0.9002\n"
     ]
    },
    {
     "name": "stderr",
     "output_type": "stream",
     "text": [
      "100%|██████████| 28/28 [00:00<00:00, 106.65it/s]\n",
      " 39%|███▉      | 11/28 [00:00<00:00, 107.29it/s]"
     ]
    },
    {
     "name": "stdout",
     "output_type": "stream",
     "text": [
      "\n",
      "Epoch: 42\n",
      "Loss \t Train: 0.1989 \t Validation: 0.2087\n",
      "Acc: \t Train: 0.9010 \t Validation: 0.9025\n"
     ]
    },
    {
     "name": "stderr",
     "output_type": "stream",
     "text": [
      "100%|██████████| 28/28 [00:00<00:00, 100.91it/s]\n",
      " 43%|████▎     | 12/28 [00:00<00:00, 87.52it/s]"
     ]
    },
    {
     "name": "stdout",
     "output_type": "stream",
     "text": [
      "\n",
      "Epoch: 43\n",
      "Loss \t Train: 0.1941 \t Validation: 0.2042\n",
      "Acc: \t Train: 0.9058 \t Validation: 0.9036\n"
     ]
    },
    {
     "name": "stderr",
     "output_type": "stream",
     "text": [
      "100%|██████████| 28/28 [00:00<00:00, 104.60it/s]\n",
      " 43%|████▎     | 12/28 [00:00<00:00, 111.35it/s]"
     ]
    },
    {
     "name": "stdout",
     "output_type": "stream",
     "text": [
      "\n",
      "Epoch: 44\n",
      "Loss \t Train: 0.1896 \t Validation: 0.2007\n",
      "Acc: \t Train: 0.9105 \t Validation: 0.9058\n"
     ]
    },
    {
     "name": "stderr",
     "output_type": "stream",
     "text": [
      "100%|██████████| 28/28 [00:00<00:00, 105.70it/s]\n",
      " 46%|████▋     | 13/28 [00:00<00:00, 126.95it/s]"
     ]
    },
    {
     "name": "stdout",
     "output_type": "stream",
     "text": [
      "\n",
      "Epoch: 45\n",
      "Loss \t Train: 0.1854 \t Validation: 0.1968\n",
      "Acc: \t Train: 0.9150 \t Validation: 0.9070\n"
     ]
    },
    {
     "name": "stderr",
     "output_type": "stream",
     "text": [
      "100%|██████████| 28/28 [00:00<00:00, 103.92it/s]\n",
      " 36%|███▌      | 10/28 [00:00<00:00, 91.17it/s]"
     ]
    },
    {
     "name": "stdout",
     "output_type": "stream",
     "text": [
      "\n",
      "Epoch: 46\n",
      "Loss \t Train: 0.1807 \t Validation: 0.1937\n",
      "Acc: \t Train: 0.9212 \t Validation: 0.9070\n"
     ]
    },
    {
     "name": "stderr",
     "output_type": "stream",
     "text": [
      "100%|██████████| 28/28 [00:00<00:00, 90.88it/s]\n",
      " 25%|██▌       | 7/28 [00:00<00:00, 65.89it/s]"
     ]
    },
    {
     "name": "stdout",
     "output_type": "stream",
     "text": [
      "\n",
      "Epoch: 47\n",
      "Loss \t Train: 0.1776 \t Validation: 0.1900\n",
      "Acc: \t Train: 0.9251 \t Validation: 0.9081\n"
     ]
    },
    {
     "name": "stderr",
     "output_type": "stream",
     "text": [
      "100%|██████████| 28/28 [00:00<00:00, 104.02it/s]\n",
      " 36%|███▌      | 10/28 [00:00<00:00, 94.89it/s]"
     ]
    },
    {
     "name": "stdout",
     "output_type": "stream",
     "text": [
      "\n",
      "Epoch: 48\n",
      "Loss \t Train: 0.1724 \t Validation: 0.1860\n",
      "Acc: \t Train: 0.9271 \t Validation: 0.9148\n"
     ]
    },
    {
     "name": "stderr",
     "output_type": "stream",
     "text": [
      "100%|██████████| 28/28 [00:00<00:00, 90.21it/s] \n",
      " 21%|██▏       | 6/28 [00:00<00:00, 57.37it/s]"
     ]
    },
    {
     "name": "stdout",
     "output_type": "stream",
     "text": [
      "\n",
      "Epoch: 49\n",
      "Loss \t Train: 0.1698 \t Validation: 0.1829\n",
      "Acc: \t Train: 0.9310 \t Validation: 0.9193\n"
     ]
    },
    {
     "name": "stderr",
     "output_type": "stream",
     "text": [
      "100%|██████████| 28/28 [00:00<00:00, 102.59it/s]\n",
      " 43%|████▎     | 12/28 [00:00<00:00, 115.57it/s]"
     ]
    },
    {
     "name": "stdout",
     "output_type": "stream",
     "text": [
      "\n",
      "Epoch: 50\n",
      "Loss \t Train: 0.1665 \t Validation: 0.1792\n",
      "Acc: \t Train: 0.9310 \t Validation: 0.9215\n"
     ]
    },
    {
     "name": "stderr",
     "output_type": "stream",
     "text": [
      "100%|██████████| 28/28 [00:00<00:00, 101.34it/s]\n",
      " 29%|██▊       | 8/28 [00:00<00:00, 74.68it/s]"
     ]
    },
    {
     "name": "stdout",
     "output_type": "stream",
     "text": [
      "\n",
      "Epoch: 51\n",
      "Loss \t Train: 0.1628 \t Validation: 0.1761\n",
      "Acc: \t Train: 0.9341 \t Validation: 0.9215\n"
     ]
    },
    {
     "name": "stderr",
     "output_type": "stream",
     "text": [
      "100%|██████████| 28/28 [00:00<00:00, 104.34it/s]\n",
      " 43%|████▎     | 12/28 [00:00<00:00, 91.46it/s]"
     ]
    },
    {
     "name": "stdout",
     "output_type": "stream",
     "text": [
      "\n",
      "Epoch: 52\n",
      "Loss \t Train: 0.1590 \t Validation: 0.1724\n",
      "Acc: \t Train: 0.9388 \t Validation: 0.9226\n"
     ]
    },
    {
     "name": "stderr",
     "output_type": "stream",
     "text": [
      "100%|██████████| 28/28 [00:00<00:00, 107.06it/s]\n",
      " 39%|███▉      | 11/28 [00:00<00:00, 94.63it/s]"
     ]
    },
    {
     "name": "stdout",
     "output_type": "stream",
     "text": [
      "\n",
      "Epoch: 53\n",
      "Loss \t Train: 0.1551 \t Validation: 0.1689\n",
      "Acc: \t Train: 0.9442 \t Validation: 0.9249\n"
     ]
    },
    {
     "name": "stderr",
     "output_type": "stream",
     "text": [
      "100%|██████████| 28/28 [00:00<00:00, 104.70it/s]\n",
      " 25%|██▌       | 7/28 [00:00<00:00, 62.83it/s]"
     ]
    },
    {
     "name": "stdout",
     "output_type": "stream",
     "text": [
      "\n",
      "Epoch: 54\n",
      "Loss \t Train: 0.1530 \t Validation: 0.1664\n",
      "Acc: \t Train: 0.9470 \t Validation: 0.9260\n"
     ]
    },
    {
     "name": "stderr",
     "output_type": "stream",
     "text": [
      "100%|██████████| 28/28 [00:00<00:00, 104.77it/s]\n",
      " 29%|██▊       | 8/28 [00:00<00:00, 72.36it/s]"
     ]
    },
    {
     "name": "stdout",
     "output_type": "stream",
     "text": [
      "\n",
      "Epoch: 55\n",
      "Loss \t Train: 0.1493 \t Validation: 0.1620\n",
      "Acc: \t Train: 0.9495 \t Validation: 0.9271\n"
     ]
    },
    {
     "name": "stderr",
     "output_type": "stream",
     "text": [
      "100%|██████████| 28/28 [00:00<00:00, 105.95it/s]\n",
      " 39%|███▉      | 11/28 [00:00<00:00, 109.19it/s]"
     ]
    },
    {
     "name": "stdout",
     "output_type": "stream",
     "text": [
      "\n",
      "Epoch: 56\n",
      "Loss \t Train: 0.1443 \t Validation: 0.1596\n",
      "Acc: \t Train: 0.9526 \t Validation: 0.9271\n"
     ]
    },
    {
     "name": "stderr",
     "output_type": "stream",
     "text": [
      "100%|██████████| 28/28 [00:00<00:00, 103.60it/s]\n",
      " 39%|███▉      | 11/28 [00:00<00:00, 80.65it/s]"
     ]
    },
    {
     "name": "stdout",
     "output_type": "stream",
     "text": [
      "\n",
      "Epoch: 57\n",
      "Loss \t Train: 0.1420 \t Validation: 0.1565\n",
      "Acc: \t Train: 0.9546 \t Validation: 0.9327\n"
     ]
    },
    {
     "name": "stderr",
     "output_type": "stream",
     "text": [
      "100%|██████████| 28/28 [00:00<00:00, 102.77it/s]\n",
      " 46%|████▋     | 13/28 [00:00<00:00, 117.12it/s]"
     ]
    },
    {
     "name": "stdout",
     "output_type": "stream",
     "text": [
      "\n",
      "Epoch: 58\n",
      "Loss \t Train: 0.1401 \t Validation: 0.1534\n",
      "Acc: \t Train: 0.9574 \t Validation: 0.9361\n"
     ]
    },
    {
     "name": "stderr",
     "output_type": "stream",
     "text": [
      "100%|██████████| 28/28 [00:00<00:00, 106.65it/s]\n",
      " 54%|█████▎    | 15/28 [00:00<00:00, 143.80it/s]"
     ]
    },
    {
     "name": "stdout",
     "output_type": "stream",
     "text": [
      "\n",
      "Epoch: 59\n",
      "Loss \t Train: 0.1368 \t Validation: 0.1501\n",
      "Acc: \t Train: 0.9607 \t Validation: 0.9383\n"
     ]
    },
    {
     "name": "stderr",
     "output_type": "stream",
     "text": [
      "100%|██████████| 28/28 [00:00<00:00, 106.21it/s]\n",
      " 21%|██▏       | 6/28 [00:00<00:00, 57.99it/s]"
     ]
    },
    {
     "name": "stdout",
     "output_type": "stream",
     "text": [
      "\n",
      "Epoch: 60\n",
      "Loss \t Train: 0.1342 \t Validation: 0.1477\n",
      "Acc: \t Train: 0.9621 \t Validation: 0.9439\n"
     ]
    },
    {
     "name": "stderr",
     "output_type": "stream",
     "text": [
      "100%|██████████| 28/28 [00:00<00:00, 103.55it/s]\n",
      " 25%|██▌       | 7/28 [00:00<00:00, 67.66it/s]"
     ]
    },
    {
     "name": "stdout",
     "output_type": "stream",
     "text": [
      "\n",
      "Epoch: 61\n",
      "Loss \t Train: 0.1317 \t Validation: 0.1442\n",
      "Acc: \t Train: 0.9638 \t Validation: 0.9439\n"
     ]
    },
    {
     "name": "stderr",
     "output_type": "stream",
     "text": [
      "100%|██████████| 28/28 [00:00<00:00, 106.04it/s]\n",
      " 46%|████▋     | 13/28 [00:00<00:00, 118.95it/s]"
     ]
    },
    {
     "name": "stdout",
     "output_type": "stream",
     "text": [
      "\n",
      "Epoch: 62\n",
      "Loss \t Train: 0.1284 \t Validation: 0.1408\n",
      "Acc: \t Train: 0.9663 \t Validation: 0.9451\n"
     ]
    },
    {
     "name": "stderr",
     "output_type": "stream",
     "text": [
      "100%|██████████| 28/28 [00:00<00:00, 105.07it/s]\n",
      " 21%|██▏       | 6/28 [00:00<00:00, 59.14it/s]"
     ]
    },
    {
     "name": "stdout",
     "output_type": "stream",
     "text": [
      "\n",
      "Epoch: 63\n",
      "Loss \t Train: 0.1244 \t Validation: 0.1387\n",
      "Acc: \t Train: 0.9666 \t Validation: 0.9473\n"
     ]
    },
    {
     "name": "stderr",
     "output_type": "stream",
     "text": [
      "100%|██████████| 28/28 [00:00<00:00, 103.99it/s]\n",
      " 21%|██▏       | 6/28 [00:00<00:00, 59.70it/s]"
     ]
    },
    {
     "name": "stdout",
     "output_type": "stream",
     "text": [
      "\n",
      "Epoch: 64\n",
      "Loss \t Train: 0.1215 \t Validation: 0.1356\n",
      "Acc: \t Train: 0.9700 \t Validation: 0.9496\n"
     ]
    },
    {
     "name": "stderr",
     "output_type": "stream",
     "text": [
      "100%|██████████| 28/28 [00:00<00:00, 105.27it/s]\n",
      " 50%|█████     | 14/28 [00:00<00:00, 125.75it/s]"
     ]
    },
    {
     "name": "stdout",
     "output_type": "stream",
     "text": [
      "\n",
      "Epoch: 65\n",
      "Loss \t Train: 0.1202 \t Validation: 0.1326\n",
      "Acc: \t Train: 0.9717 \t Validation: 0.9529\n"
     ]
    },
    {
     "name": "stderr",
     "output_type": "stream",
     "text": [
      "100%|██████████| 28/28 [00:00<00:00, 102.09it/s]\n",
      " 46%|████▋     | 13/28 [00:00<00:00, 123.46it/s]"
     ]
    },
    {
     "name": "stdout",
     "output_type": "stream",
     "text": [
      "\n",
      "Epoch: 66\n",
      "Loss \t Train: 0.1161 \t Validation: 0.1309\n",
      "Acc: \t Train: 0.9711 \t Validation: 0.9529\n"
     ]
    },
    {
     "name": "stderr",
     "output_type": "stream",
     "text": [
      "100%|██████████| 28/28 [00:00<00:00, 104.15it/s]\n",
      " 46%|████▋     | 13/28 [00:00<00:00, 129.83it/s]"
     ]
    },
    {
     "name": "stdout",
     "output_type": "stream",
     "text": [
      "\n",
      "Epoch: 67\n",
      "Loss \t Train: 0.1140 \t Validation: 0.1276\n",
      "Acc: \t Train: 0.9728 \t Validation: 0.9529\n"
     ]
    },
    {
     "name": "stderr",
     "output_type": "stream",
     "text": [
      "100%|██████████| 28/28 [00:00<00:00, 105.30it/s]\n",
      " 46%|████▋     | 13/28 [00:00<00:00, 129.30it/s]"
     ]
    },
    {
     "name": "stdout",
     "output_type": "stream",
     "text": [
      "\n",
      "Epoch: 68\n",
      "Loss \t Train: 0.1115 \t Validation: 0.1246\n",
      "Acc: \t Train: 0.9725 \t Validation: 0.9540\n"
     ]
    },
    {
     "name": "stderr",
     "output_type": "stream",
     "text": [
      "100%|██████████| 28/28 [00:00<00:00, 105.53it/s]\n",
      " 43%|████▎     | 12/28 [00:00<00:00, 116.90it/s]"
     ]
    },
    {
     "name": "stdout",
     "output_type": "stream",
     "text": [
      "\n",
      "Epoch: 69\n",
      "Loss \t Train: 0.1085 \t Validation: 0.1219\n",
      "Acc: \t Train: 0.9748 \t Validation: 0.9540\n"
     ]
    },
    {
     "name": "stderr",
     "output_type": "stream",
     "text": [
      "100%|██████████| 28/28 [00:00<00:00, 103.40it/s]\n",
      " 39%|███▉      | 11/28 [00:00<00:00, 109.02it/s]"
     ]
    },
    {
     "name": "stdout",
     "output_type": "stream",
     "text": [
      "\n",
      "Epoch: 70\n",
      "Loss \t Train: 0.1052 \t Validation: 0.1185\n",
      "Acc: \t Train: 0.9756 \t Validation: 0.9552\n"
     ]
    },
    {
     "name": "stderr",
     "output_type": "stream",
     "text": [
      "100%|██████████| 28/28 [00:00<00:00, 102.01it/s]\n",
      " 21%|██▏       | 6/28 [00:00<00:00, 57.81it/s]"
     ]
    },
    {
     "name": "stdout",
     "output_type": "stream",
     "text": [
      "\n",
      "Epoch: 71\n",
      "Loss \t Train: 0.1024 \t Validation: 0.1162\n",
      "Acc: \t Train: 0.9742 \t Validation: 0.9574\n"
     ]
    },
    {
     "name": "stderr",
     "output_type": "stream",
     "text": [
      "100%|██████████| 28/28 [00:00<00:00, 105.85it/s]\n",
      " 32%|███▏      | 9/28 [00:00<00:00, 72.28it/s]"
     ]
    },
    {
     "name": "stdout",
     "output_type": "stream",
     "text": [
      "\n",
      "Epoch: 72\n",
      "Loss \t Train: 0.0999 \t Validation: 0.1127\n",
      "Acc: \t Train: 0.9759 \t Validation: 0.9608\n"
     ]
    },
    {
     "name": "stderr",
     "output_type": "stream",
     "text": [
      "100%|██████████| 28/28 [00:00<00:00, 103.95it/s]\n",
      " 36%|███▌      | 10/28 [00:00<00:00, 94.63it/s]"
     ]
    },
    {
     "name": "stdout",
     "output_type": "stream",
     "text": [
      "\n",
      "Epoch: 73\n",
      "Loss \t Train: 0.0975 \t Validation: 0.1100\n",
      "Acc: \t Train: 0.9767 \t Validation: 0.9630\n"
     ]
    },
    {
     "name": "stderr",
     "output_type": "stream",
     "text": [
      "100%|██████████| 28/28 [00:00<00:00, 101.26it/s]\n",
      " 43%|████▎     | 12/28 [00:00<00:00, 111.07it/s]"
     ]
    },
    {
     "name": "stdout",
     "output_type": "stream",
     "text": [
      "\n",
      "Epoch: 74\n",
      "Loss \t Train: 0.0944 \t Validation: 0.1069\n",
      "Acc: \t Train: 0.9770 \t Validation: 0.9641\n"
     ]
    },
    {
     "name": "stderr",
     "output_type": "stream",
     "text": [
      "100%|██████████| 28/28 [00:00<00:00, 102.78it/s]\n",
      " 25%|██▌       | 7/28 [00:00<00:00, 62.83it/s]"
     ]
    },
    {
     "name": "stdout",
     "output_type": "stream",
     "text": [
      "\n",
      "Epoch: 75\n",
      "Loss \t Train: 0.0926 \t Validation: 0.1047\n",
      "Acc: \t Train: 0.9776 \t Validation: 0.9641\n"
     ]
    },
    {
     "name": "stderr",
     "output_type": "stream",
     "text": [
      "100%|██████████| 28/28 [00:00<00:00, 107.43it/s]\n",
      " 29%|██▊       | 8/28 [00:00<00:00, 71.94it/s]"
     ]
    },
    {
     "name": "stdout",
     "output_type": "stream",
     "text": [
      "\n",
      "Epoch: 76\n",
      "Loss \t Train: 0.0891 \t Validation: 0.1019\n",
      "Acc: \t Train: 0.9792 \t Validation: 0.9630\n"
     ]
    },
    {
     "name": "stderr",
     "output_type": "stream",
     "text": [
      "100%|██████████| 28/28 [00:00<00:00, 104.23it/s]\n",
      " 43%|████▎     | 12/28 [00:00<00:00, 118.82it/s]"
     ]
    },
    {
     "name": "stdout",
     "output_type": "stream",
     "text": [
      "\n",
      "Epoch: 77\n",
      "Loss \t Train: 0.0869 \t Validation: 0.0995\n",
      "Acc: \t Train: 0.9787 \t Validation: 0.9630\n"
     ]
    },
    {
     "name": "stderr",
     "output_type": "stream",
     "text": [
      "100%|██████████| 28/28 [00:00<00:00, 104.24it/s]\n",
      " 39%|███▉      | 11/28 [00:00<00:00, 79.75it/s]"
     ]
    },
    {
     "name": "stdout",
     "output_type": "stream",
     "text": [
      "\n",
      "Epoch: 78\n",
      "Loss \t Train: 0.0849 \t Validation: 0.0970\n",
      "Acc: \t Train: 0.9801 \t Validation: 0.9664\n"
     ]
    },
    {
     "name": "stderr",
     "output_type": "stream",
     "text": [
      "100%|██████████| 28/28 [00:00<00:00, 105.14it/s]\n",
      " 46%|████▋     | 13/28 [00:00<00:00, 126.72it/s]"
     ]
    },
    {
     "name": "stdout",
     "output_type": "stream",
     "text": [
      "\n",
      "Epoch: 79\n",
      "Loss \t Train: 0.0815 \t Validation: 0.0946\n",
      "Acc: \t Train: 0.9820 \t Validation: 0.9641\n"
     ]
    },
    {
     "name": "stderr",
     "output_type": "stream",
     "text": [
      "100%|██████████| 28/28 [00:00<00:00, 105.11it/s]\n",
      " 18%|█▊        | 5/28 [00:00<00:00, 49.79it/s]"
     ]
    },
    {
     "name": "stdout",
     "output_type": "stream",
     "text": [
      "\n",
      "Epoch: 80\n",
      "Loss \t Train: 0.0798 \t Validation: 0.0927\n",
      "Acc: \t Train: 0.9812 \t Validation: 0.9641\n"
     ]
    },
    {
     "name": "stderr",
     "output_type": "stream",
     "text": [
      "100%|██████████| 28/28 [00:00<00:00, 101.91it/s]\n",
      " 21%|██▏       | 6/28 [00:00<00:00, 58.78it/s]"
     ]
    },
    {
     "name": "stdout",
     "output_type": "stream",
     "text": [
      "\n",
      "Epoch: 81\n",
      "Loss \t Train: 0.0781 \t Validation: 0.0906\n",
      "Acc: \t Train: 0.9818 \t Validation: 0.9652\n"
     ]
    },
    {
     "name": "stderr",
     "output_type": "stream",
     "text": [
      "100%|██████████| 28/28 [00:00<00:00, 105.58it/s]\n",
      " 25%|██▌       | 7/28 [00:00<00:00, 64.87it/s]"
     ]
    },
    {
     "name": "stdout",
     "output_type": "stream",
     "text": [
      "\n",
      "Epoch: 82\n",
      "Loss \t Train: 0.0760 \t Validation: 0.0885\n",
      "Acc: \t Train: 0.9815 \t Validation: 0.9664\n"
     ]
    },
    {
     "name": "stderr",
     "output_type": "stream",
     "text": [
      "100%|██████████| 28/28 [00:00<00:00, 103.09it/s]\n",
      " 21%|██▏       | 6/28 [00:00<00:00, 58.79it/s]"
     ]
    },
    {
     "name": "stdout",
     "output_type": "stream",
     "text": [
      "\n",
      "Epoch: 83\n",
      "Loss \t Train: 0.0741 \t Validation: 0.0868\n",
      "Acc: \t Train: 0.9815 \t Validation: 0.9652\n"
     ]
    },
    {
     "name": "stderr",
     "output_type": "stream",
     "text": [
      "100%|██████████| 28/28 [00:00<00:00, 98.79it/s]\n",
      " 21%|██▏       | 6/28 [00:00<00:00, 58.46it/s]"
     ]
    },
    {
     "name": "stdout",
     "output_type": "stream",
     "text": [
      "\n",
      "Epoch: 84\n",
      "Loss \t Train: 0.0722 \t Validation: 0.0850\n",
      "Acc: \t Train: 0.9832 \t Validation: 0.9652\n"
     ]
    },
    {
     "name": "stderr",
     "output_type": "stream",
     "text": [
      "100%|██████████| 28/28 [00:00<00:00, 100.69it/s]\n",
      " 36%|███▌      | 10/28 [00:00<00:00, 78.31it/s]"
     ]
    },
    {
     "name": "stdout",
     "output_type": "stream",
     "text": [
      "\n",
      "Epoch: 85\n",
      "Loss \t Train: 0.0709 \t Validation: 0.0830\n",
      "Acc: \t Train: 0.9835 \t Validation: 0.9697\n"
     ]
    },
    {
     "name": "stderr",
     "output_type": "stream",
     "text": [
      "100%|██████████| 28/28 [00:00<00:00, 97.35it/s]\n",
      " 46%|████▋     | 13/28 [00:00<00:00, 123.77it/s]"
     ]
    },
    {
     "name": "stdout",
     "output_type": "stream",
     "text": [
      "\n",
      "Epoch: 86\n",
      "Loss \t Train: 0.0683 \t Validation: 0.0815\n",
      "Acc: \t Train: 0.9837 \t Validation: 0.9697\n"
     ]
    },
    {
     "name": "stderr",
     "output_type": "stream",
     "text": [
      "100%|██████████| 28/28 [00:00<00:00, 105.38it/s]\n",
      " 18%|█▊        | 5/28 [00:00<00:00, 46.21it/s]"
     ]
    },
    {
     "name": "stdout",
     "output_type": "stream",
     "text": [
      "\n",
      "Epoch: 87\n",
      "Loss \t Train: 0.0679 \t Validation: 0.0798\n",
      "Acc: \t Train: 0.9826 \t Validation: 0.9697\n"
     ]
    },
    {
     "name": "stderr",
     "output_type": "stream",
     "text": [
      "100%|██████████| 28/28 [00:00<00:00, 102.90it/s]\n",
      " 25%|██▌       | 7/28 [00:00<00:00, 69.40it/s]"
     ]
    },
    {
     "name": "stdout",
     "output_type": "stream",
     "text": [
      "\n",
      "Epoch: 88\n",
      "Loss \t Train: 0.0660 \t Validation: 0.0783\n",
      "Acc: \t Train: 0.9835 \t Validation: 0.9709\n"
     ]
    },
    {
     "name": "stderr",
     "output_type": "stream",
     "text": [
      "100%|██████████| 28/28 [00:00<00:00, 106.29it/s]\n",
      " 46%|████▋     | 13/28 [00:00<00:00, 126.64it/s]"
     ]
    },
    {
     "name": "stdout",
     "output_type": "stream",
     "text": [
      "\n",
      "Epoch: 89\n",
      "Loss \t Train: 0.0650 \t Validation: 0.0767\n",
      "Acc: \t Train: 0.9835 \t Validation: 0.9709\n"
     ]
    },
    {
     "name": "stderr",
     "output_type": "stream",
     "text": [
      "100%|██████████| 28/28 [00:00<00:00, 107.81it/s]\n",
      " 18%|█▊        | 5/28 [00:00<00:00, 48.31it/s]"
     ]
    },
    {
     "name": "stdout",
     "output_type": "stream",
     "text": [
      "\n",
      "Epoch: 90\n",
      "Loss \t Train: 0.0630 \t Validation: 0.0756\n",
      "Acc: \t Train: 0.9837 \t Validation: 0.9731\n"
     ]
    },
    {
     "name": "stderr",
     "output_type": "stream",
     "text": [
      "100%|██████████| 28/28 [00:00<00:00, 109.42it/s]\n",
      " 46%|████▋     | 13/28 [00:00<00:00, 126.36it/s]"
     ]
    },
    {
     "name": "stdout",
     "output_type": "stream",
     "text": [
      "\n",
      "Epoch: 91\n",
      "Loss \t Train: 0.0621 \t Validation: 0.0740\n",
      "Acc: \t Train: 0.9843 \t Validation: 0.9731\n"
     ]
    },
    {
     "name": "stderr",
     "output_type": "stream",
     "text": [
      "100%|██████████| 28/28 [00:00<00:00, 108.11it/s]\n",
      " 43%|████▎     | 12/28 [00:00<00:00, 90.87it/s]"
     ]
    },
    {
     "name": "stdout",
     "output_type": "stream",
     "text": [
      "\n",
      "Epoch: 92\n",
      "Loss \t Train: 0.0602 \t Validation: 0.0730\n",
      "Acc: \t Train: 0.9846 \t Validation: 0.9731\n"
     ]
    },
    {
     "name": "stderr",
     "output_type": "stream",
     "text": [
      "100%|██████████| 28/28 [00:00<00:00, 109.75it/s]\n",
      " 25%|██▌       | 7/28 [00:00<00:00, 67.86it/s]"
     ]
    },
    {
     "name": "stdout",
     "output_type": "stream",
     "text": [
      "\n",
      "Epoch: 93\n",
      "Loss \t Train: 0.0595 \t Validation: 0.0715\n",
      "Acc: \t Train: 0.9849 \t Validation: 0.9731\n"
     ]
    },
    {
     "name": "stderr",
     "output_type": "stream",
     "text": [
      "100%|██████████| 28/28 [00:00<00:00, 108.66it/s]\n",
      " 39%|███▉      | 11/28 [00:00<00:00, 105.30it/s]"
     ]
    },
    {
     "name": "stdout",
     "output_type": "stream",
     "text": [
      "\n",
      "Epoch: 94\n",
      "Loss \t Train: 0.0579 \t Validation: 0.0702\n",
      "Acc: \t Train: 0.9857 \t Validation: 0.9731\n"
     ]
    },
    {
     "name": "stderr",
     "output_type": "stream",
     "text": [
      "100%|██████████| 28/28 [00:00<00:00, 104.92it/s]\n",
      " 25%|██▌       | 7/28 [00:00<00:00, 68.59it/s]"
     ]
    },
    {
     "name": "stdout",
     "output_type": "stream",
     "text": [
      "\n",
      "Epoch: 95\n",
      "Loss \t Train: 0.0570 \t Validation: 0.0693\n",
      "Acc: \t Train: 0.9851 \t Validation: 0.9731\n"
     ]
    },
    {
     "name": "stderr",
     "output_type": "stream",
     "text": [
      "100%|██████████| 28/28 [00:00<00:00, 109.11it/s]\n",
      " 43%|████▎     | 12/28 [00:00<00:00, 116.43it/s]"
     ]
    },
    {
     "name": "stdout",
     "output_type": "stream",
     "text": [
      "\n",
      "Epoch: 96\n",
      "Loss \t Train: 0.0560 \t Validation: 0.0681\n",
      "Acc: \t Train: 0.9854 \t Validation: 0.9742\n"
     ]
    },
    {
     "name": "stderr",
     "output_type": "stream",
     "text": [
      "100%|██████████| 28/28 [00:00<00:00, 109.57it/s]\n",
      " 32%|███▏      | 9/28 [00:00<00:00, 67.83it/s]"
     ]
    },
    {
     "name": "stdout",
     "output_type": "stream",
     "text": [
      "\n",
      "Epoch: 97\n",
      "Loss \t Train: 0.0549 \t Validation: 0.0672\n",
      "Acc: \t Train: 0.9851 \t Validation: 0.9742\n"
     ]
    },
    {
     "name": "stderr",
     "output_type": "stream",
     "text": [
      "100%|██████████| 28/28 [00:00<00:00, 108.40it/s]\n",
      " 39%|███▉      | 11/28 [00:00<00:00, 85.23it/s]"
     ]
    },
    {
     "name": "stdout",
     "output_type": "stream",
     "text": [
      "\n",
      "Epoch: 98\n",
      "Loss \t Train: 0.0539 \t Validation: 0.0662\n",
      "Acc: \t Train: 0.9857 \t Validation: 0.9776\n"
     ]
    },
    {
     "name": "stderr",
     "output_type": "stream",
     "text": [
      "100%|██████████| 28/28 [00:00<00:00, 109.04it/s]\n",
      " 36%|███▌      | 10/28 [00:00<00:00, 90.18it/s]"
     ]
    },
    {
     "name": "stdout",
     "output_type": "stream",
     "text": [
      "\n",
      "Epoch: 99\n",
      "Loss \t Train: 0.0529 \t Validation: 0.0653\n",
      "Acc: \t Train: 0.9849 \t Validation: 0.9776\n"
     ]
    },
    {
     "name": "stderr",
     "output_type": "stream",
     "text": [
      "100%|██████████| 28/28 [00:00<00:00, 108.46it/s]\n",
      " 29%|██▊       | 8/28 [00:00<00:00, 74.52it/s]"
     ]
    },
    {
     "name": "stdout",
     "output_type": "stream",
     "text": [
      "\n",
      "Epoch: 100\n",
      "Loss \t Train: 0.0516 \t Validation: 0.0644\n",
      "Acc: \t Train: 0.9854 \t Validation: 0.9776\n"
     ]
    },
    {
     "name": "stderr",
     "output_type": "stream",
     "text": [
      "100%|██████████| 28/28 [00:00<00:00, 108.85it/s]\n",
      " 50%|█████     | 14/28 [00:00<00:00, 135.24it/s]"
     ]
    },
    {
     "name": "stdout",
     "output_type": "stream",
     "text": [
      "\n",
      "Epoch: 101\n",
      "Loss \t Train: 0.0510 \t Validation: 0.0636\n",
      "Acc: \t Train: 0.9854 \t Validation: 0.9776\n"
     ]
    },
    {
     "name": "stderr",
     "output_type": "stream",
     "text": [
      "100%|██████████| 28/28 [00:00<00:00, 107.76it/s]\n",
      " 43%|████▎     | 12/28 [00:00<00:00, 115.37it/s]"
     ]
    },
    {
     "name": "stdout",
     "output_type": "stream",
     "text": [
      "\n",
      "Epoch: 102\n",
      "Loss \t Train: 0.0496 \t Validation: 0.0630\n",
      "Acc: \t Train: 0.9857 \t Validation: 0.9776\n"
     ]
    },
    {
     "name": "stderr",
     "output_type": "stream",
     "text": [
      "100%|██████████| 28/28 [00:00<00:00, 106.85it/s]\n",
      " 50%|█████     | 14/28 [00:00<00:00, 139.30it/s]"
     ]
    },
    {
     "name": "stdout",
     "output_type": "stream",
     "text": [
      "\n",
      "Epoch: 103\n",
      "Loss \t Train: 0.0489 \t Validation: 0.0622\n",
      "Acc: \t Train: 0.9857 \t Validation: 0.9776\n"
     ]
    },
    {
     "name": "stderr",
     "output_type": "stream",
     "text": [
      "100%|██████████| 28/28 [00:00<00:00, 108.71it/s]\n",
      " 46%|████▋     | 13/28 [00:00<00:00, 125.33it/s]"
     ]
    },
    {
     "name": "stdout",
     "output_type": "stream",
     "text": [
      "\n",
      "Epoch: 104\n",
      "Loss \t Train: 0.0482 \t Validation: 0.0616\n",
      "Acc: \t Train: 0.9860 \t Validation: 0.9776\n"
     ]
    },
    {
     "name": "stderr",
     "output_type": "stream",
     "text": [
      "100%|██████████| 28/28 [00:00<00:00, 107.83it/s]\n",
      " 21%|██▏       | 6/28 [00:00<00:00, 59.71it/s]"
     ]
    },
    {
     "name": "stdout",
     "output_type": "stream",
     "text": [
      "\n",
      "Epoch: 105\n",
      "Loss \t Train: 0.0474 \t Validation: 0.0609\n",
      "Acc: \t Train: 0.9863 \t Validation: 0.9776\n"
     ]
    },
    {
     "name": "stderr",
     "output_type": "stream",
     "text": [
      "100%|██████████| 28/28 [00:00<00:00, 109.66it/s]\n",
      " 36%|███▌      | 10/28 [00:00<00:00, 83.03it/s]"
     ]
    },
    {
     "name": "stdout",
     "output_type": "stream",
     "text": [
      "\n",
      "Epoch: 106\n",
      "Loss \t Train: 0.0468 \t Validation: 0.0602\n",
      "Acc: \t Train: 0.9863 \t Validation: 0.9787\n"
     ]
    },
    {
     "name": "stderr",
     "output_type": "stream",
     "text": [
      "100%|██████████| 28/28 [00:00<00:00, 108.22it/s]\n",
      " 46%|████▋     | 13/28 [00:00<00:00, 115.85it/s]"
     ]
    },
    {
     "name": "stdout",
     "output_type": "stream",
     "text": [
      "\n",
      "Epoch: 107\n",
      "Loss \t Train: 0.0460 \t Validation: 0.0596\n",
      "Acc: \t Train: 0.9865 \t Validation: 0.9787\n"
     ]
    },
    {
     "name": "stderr",
     "output_type": "stream",
     "text": [
      "100%|██████████| 28/28 [00:00<00:00, 109.30it/s]\n",
      " 43%|████▎     | 12/28 [00:00<00:00, 89.51it/s]"
     ]
    },
    {
     "name": "stdout",
     "output_type": "stream",
     "text": [
      "\n",
      "Epoch: 108\n",
      "Loss \t Train: 0.0448 \t Validation: 0.0590\n",
      "Acc: \t Train: 0.9871 \t Validation: 0.9787\n"
     ]
    },
    {
     "name": "stderr",
     "output_type": "stream",
     "text": [
      "100%|██████████| 28/28 [00:00<00:00, 107.11it/s]\n",
      " 43%|████▎     | 12/28 [00:00<00:00, 119.51it/s]"
     ]
    },
    {
     "name": "stdout",
     "output_type": "stream",
     "text": [
      "\n",
      "Epoch: 109\n",
      "Loss \t Train: 0.0445 \t Validation: 0.0583\n",
      "Acc: \t Train: 0.9868 \t Validation: 0.9787\n"
     ]
    },
    {
     "name": "stderr",
     "output_type": "stream",
     "text": [
      "100%|██████████| 28/28 [00:00<00:00, 108.66it/s]\n",
      " 21%|██▏       | 6/28 [00:00<00:00, 52.80it/s]"
     ]
    },
    {
     "name": "stdout",
     "output_type": "stream",
     "text": [
      "\n",
      "Epoch: 110\n",
      "Loss \t Train: 0.0434 \t Validation: 0.0578\n",
      "Acc: \t Train: 0.9871 \t Validation: 0.9787\n"
     ]
    },
    {
     "name": "stderr",
     "output_type": "stream",
     "text": [
      "100%|██████████| 28/28 [00:00<00:00, 108.75it/s]\n",
      " 50%|█████     | 14/28 [00:00<00:00, 127.97it/s]"
     ]
    },
    {
     "name": "stdout",
     "output_type": "stream",
     "text": [
      "\n",
      "Epoch: 111\n",
      "Loss \t Train: 0.0428 \t Validation: 0.0573\n",
      "Acc: \t Train: 0.9871 \t Validation: 0.9809\n"
     ]
    },
    {
     "name": "stderr",
     "output_type": "stream",
     "text": [
      "100%|██████████| 28/28 [00:00<00:00, 109.47it/s]\n",
      " 39%|███▉      | 11/28 [00:00<00:00, 74.98it/s]"
     ]
    },
    {
     "name": "stdout",
     "output_type": "stream",
     "text": [
      "\n",
      "Epoch: 112\n",
      "Loss \t Train: 0.0423 \t Validation: 0.0569\n",
      "Acc: \t Train: 0.9871 \t Validation: 0.9809\n"
     ]
    },
    {
     "name": "stderr",
     "output_type": "stream",
     "text": [
      "100%|██████████| 28/28 [00:00<00:00, 107.49it/s]\n",
      " 54%|█████▎    | 15/28 [00:00<00:00, 135.56it/s]"
     ]
    },
    {
     "name": "stdout",
     "output_type": "stream",
     "text": [
      "\n",
      "Epoch: 113\n",
      "Loss \t Train: 0.0418 \t Validation: 0.0566\n",
      "Acc: \t Train: 0.9874 \t Validation: 0.9798\n"
     ]
    },
    {
     "name": "stderr",
     "output_type": "stream",
     "text": [
      "100%|██████████| 28/28 [00:00<00:00, 108.16it/s]\n",
      " 46%|████▋     | 13/28 [00:00<00:00, 127.98it/s]"
     ]
    },
    {
     "name": "stdout",
     "output_type": "stream",
     "text": [
      "\n",
      "Epoch: 114\n",
      "Loss \t Train: 0.0410 \t Validation: 0.0559\n",
      "Acc: \t Train: 0.9874 \t Validation: 0.9809\n"
     ]
    },
    {
     "name": "stderr",
     "output_type": "stream",
     "text": [
      "100%|██████████| 28/28 [00:00<00:00, 109.29it/s]\n",
      " 43%|████▎     | 12/28 [00:00<00:00, 115.28it/s]"
     ]
    },
    {
     "name": "stdout",
     "output_type": "stream",
     "text": [
      "\n",
      "Epoch: 115\n",
      "Loss \t Train: 0.0400 \t Validation: 0.0554\n",
      "Acc: \t Train: 0.9877 \t Validation: 0.9798\n"
     ]
    },
    {
     "name": "stderr",
     "output_type": "stream",
     "text": [
      "100%|██████████| 28/28 [00:00<00:00, 109.30it/s]\n",
      " 21%|██▏       | 6/28 [00:00<00:00, 54.32it/s]"
     ]
    },
    {
     "name": "stdout",
     "output_type": "stream",
     "text": [
      "\n",
      "Epoch: 116\n",
      "Loss \t Train: 0.0393 \t Validation: 0.0551\n",
      "Acc: \t Train: 0.9877 \t Validation: 0.9798\n"
     ]
    },
    {
     "name": "stderr",
     "output_type": "stream",
     "text": [
      "100%|██████████| 28/28 [00:00<00:00, 108.61it/s]\n",
      " 46%|████▋     | 13/28 [00:00<00:00, 124.79it/s]"
     ]
    },
    {
     "name": "stdout",
     "output_type": "stream",
     "text": [
      "\n",
      "Epoch: 117\n",
      "Loss \t Train: 0.0392 \t Validation: 0.0547\n",
      "Acc: \t Train: 0.9877 \t Validation: 0.9798\n"
     ]
    },
    {
     "name": "stderr",
     "output_type": "stream",
     "text": [
      "100%|██████████| 28/28 [00:00<00:00, 108.80it/s]\n",
      " 46%|████▋     | 13/28 [00:00<00:00, 117.98it/s]"
     ]
    },
    {
     "name": "stdout",
     "output_type": "stream",
     "text": [
      "\n",
      "Epoch: 118\n",
      "Loss \t Train: 0.0379 \t Validation: 0.0543\n",
      "Acc: \t Train: 0.9879 \t Validation: 0.9798\n"
     ]
    },
    {
     "name": "stderr",
     "output_type": "stream",
     "text": [
      "100%|██████████| 28/28 [00:00<00:00, 108.24it/s]\n",
      " 36%|███▌      | 10/28 [00:00<00:00, 68.90it/s]"
     ]
    },
    {
     "name": "stdout",
     "output_type": "stream",
     "text": [
      "\n",
      "Epoch: 119\n",
      "Loss \t Train: 0.0378 \t Validation: 0.0539\n",
      "Acc: \t Train: 0.9885 \t Validation: 0.9798\n"
     ]
    },
    {
     "name": "stderr",
     "output_type": "stream",
     "text": [
      "100%|██████████| 28/28 [00:00<00:00, 101.49it/s]\n",
      " 46%|████▋     | 13/28 [00:00<00:00, 120.84it/s]"
     ]
    },
    {
     "name": "stdout",
     "output_type": "stream",
     "text": [
      "\n",
      "Epoch: 120\n",
      "Loss \t Train: 0.0375 \t Validation: 0.0537\n",
      "Acc: \t Train: 0.9885 \t Validation: 0.9798\n"
     ]
    },
    {
     "name": "stderr",
     "output_type": "stream",
     "text": [
      "100%|██████████| 28/28 [00:00<00:00, 108.32it/s]\n",
      " 25%|██▌       | 7/28 [00:00<00:00, 69.53it/s]"
     ]
    },
    {
     "name": "stdout",
     "output_type": "stream",
     "text": [
      "\n",
      "Epoch: 121\n",
      "Loss \t Train: 0.0366 \t Validation: 0.0532\n",
      "Acc: \t Train: 0.9891 \t Validation: 0.9798\n"
     ]
    },
    {
     "name": "stderr",
     "output_type": "stream",
     "text": [
      "100%|██████████| 28/28 [00:00<00:00, 107.63it/s]\n",
      " 43%|████▎     | 12/28 [00:00<00:00, 117.28it/s]"
     ]
    },
    {
     "name": "stdout",
     "output_type": "stream",
     "text": [
      "\n",
      "Epoch: 122\n",
      "Loss \t Train: 0.0360 \t Validation: 0.0527\n",
      "Acc: \t Train: 0.9896 \t Validation: 0.9821\n"
     ]
    },
    {
     "name": "stderr",
     "output_type": "stream",
     "text": [
      "100%|██████████| 28/28 [00:00<00:00, 107.91it/s]\n",
      " 43%|████▎     | 12/28 [00:00<00:00, 113.08it/s]"
     ]
    },
    {
     "name": "stdout",
     "output_type": "stream",
     "text": [
      "\n",
      "Epoch: 123\n",
      "Loss \t Train: 0.0351 \t Validation: 0.0526\n",
      "Acc: \t Train: 0.9896 \t Validation: 0.9821\n"
     ]
    },
    {
     "name": "stderr",
     "output_type": "stream",
     "text": [
      "100%|██████████| 28/28 [00:00<00:00, 106.80it/s]\n",
      " 21%|██▏       | 6/28 [00:00<00:00, 59.76it/s]"
     ]
    },
    {
     "name": "stdout",
     "output_type": "stream",
     "text": [
      "\n",
      "Epoch: 124\n",
      "Loss \t Train: 0.0350 \t Validation: 0.0524\n",
      "Acc: \t Train: 0.9899 \t Validation: 0.9821\n"
     ]
    },
    {
     "name": "stderr",
     "output_type": "stream",
     "text": [
      "100%|██████████| 28/28 [00:00<00:00, 106.42it/s]\n",
      " 29%|██▊       | 8/28 [00:00<00:00, 74.57it/s]"
     ]
    },
    {
     "name": "stdout",
     "output_type": "stream",
     "text": [
      "\n",
      "Epoch: 125\n",
      "Loss \t Train: 0.0340 \t Validation: 0.0519\n",
      "Acc: \t Train: 0.9899 \t Validation: 0.9821\n"
     ]
    },
    {
     "name": "stderr",
     "output_type": "stream",
     "text": [
      "100%|██████████| 28/28 [00:00<00:00, 109.36it/s]\n",
      " 25%|██▌       | 7/28 [00:00<00:00, 68.12it/s]"
     ]
    },
    {
     "name": "stdout",
     "output_type": "stream",
     "text": [
      "\n",
      "Epoch: 126\n",
      "Loss \t Train: 0.0338 \t Validation: 0.0515\n",
      "Acc: \t Train: 0.9899 \t Validation: 0.9821\n"
     ]
    },
    {
     "name": "stderr",
     "output_type": "stream",
     "text": [
      "100%|██████████| 28/28 [00:00<00:00, 108.04it/s]\n",
      " 39%|███▉      | 11/28 [00:00<00:00, 80.48it/s]"
     ]
    },
    {
     "name": "stdout",
     "output_type": "stream",
     "text": [
      "\n",
      "Epoch: 127\n",
      "Loss \t Train: 0.0332 \t Validation: 0.0513\n",
      "Acc: \t Train: 0.9902 \t Validation: 0.9832\n"
     ]
    },
    {
     "name": "stderr",
     "output_type": "stream",
     "text": [
      "100%|██████████| 28/28 [00:00<00:00, 104.76it/s]\n",
      " 39%|███▉      | 11/28 [00:00<00:00, 83.77it/s]"
     ]
    },
    {
     "name": "stdout",
     "output_type": "stream",
     "text": [
      "\n",
      "Epoch: 128\n",
      "Loss \t Train: 0.0331 \t Validation: 0.0512\n",
      "Acc: \t Train: 0.9899 \t Validation: 0.9832\n"
     ]
    },
    {
     "name": "stderr",
     "output_type": "stream",
     "text": [
      "100%|██████████| 28/28 [00:00<00:00, 105.21it/s]\n",
      " 43%|████▎     | 12/28 [00:00<00:00, 114.42it/s]"
     ]
    },
    {
     "name": "stdout",
     "output_type": "stream",
     "text": [
      "\n",
      "Epoch: 129\n",
      "Loss \t Train: 0.0327 \t Validation: 0.0508\n",
      "Acc: \t Train: 0.9902 \t Validation: 0.9832\n"
     ]
    },
    {
     "name": "stderr",
     "output_type": "stream",
     "text": [
      "100%|██████████| 28/28 [00:00<00:00, 106.32it/s]\n",
      " 43%|████▎     | 12/28 [00:00<00:00, 94.44it/s]"
     ]
    },
    {
     "name": "stdout",
     "output_type": "stream",
     "text": [
      "\n",
      "Epoch: 130\n",
      "Loss \t Train: 0.0322 \t Validation: 0.0508\n",
      "Acc: \t Train: 0.9905 \t Validation: 0.9832\n"
     ]
    },
    {
     "name": "stderr",
     "output_type": "stream",
     "text": [
      "100%|██████████| 28/28 [00:00<00:00, 108.24it/s]\n",
      " 36%|███▌      | 10/28 [00:00<00:00, 78.57it/s]"
     ]
    },
    {
     "name": "stdout",
     "output_type": "stream",
     "text": [
      "\n",
      "Epoch: 131\n",
      "Loss \t Train: 0.0320 \t Validation: 0.0504\n",
      "Acc: \t Train: 0.9902 \t Validation: 0.9832\n"
     ]
    },
    {
     "name": "stderr",
     "output_type": "stream",
     "text": [
      "100%|██████████| 28/28 [00:00<00:00, 107.53it/s]\n",
      " 50%|█████     | 14/28 [00:00<00:00, 129.75it/s]"
     ]
    },
    {
     "name": "stdout",
     "output_type": "stream",
     "text": [
      "\n",
      "Epoch: 132\n",
      "Loss \t Train: 0.0309 \t Validation: 0.0500\n",
      "Acc: \t Train: 0.9905 \t Validation: 0.9832\n"
     ]
    },
    {
     "name": "stderr",
     "output_type": "stream",
     "text": [
      "100%|██████████| 28/28 [00:00<00:00, 108.84it/s]\n",
      " 25%|██▌       | 7/28 [00:00<00:00, 67.31it/s]"
     ]
    },
    {
     "name": "stdout",
     "output_type": "stream",
     "text": [
      "\n",
      "Epoch: 133\n",
      "Loss \t Train: 0.0309 \t Validation: 0.0500\n",
      "Acc: \t Train: 0.9902 \t Validation: 0.9832\n"
     ]
    },
    {
     "name": "stderr",
     "output_type": "stream",
     "text": [
      "100%|██████████| 28/28 [00:00<00:00, 107.79it/s]\n",
      " 36%|███▌      | 10/28 [00:00<00:00, 98.34it/s]"
     ]
    },
    {
     "name": "stdout",
     "output_type": "stream",
     "text": [
      "\n",
      "Epoch: 134\n",
      "Loss \t Train: 0.0301 \t Validation: 0.0496\n",
      "Acc: \t Train: 0.9907 \t Validation: 0.9832\n"
     ]
    },
    {
     "name": "stderr",
     "output_type": "stream",
     "text": [
      "100%|██████████| 28/28 [00:00<00:00, 97.50it/s]\n",
      " 25%|██▌       | 7/28 [00:00<00:00, 67.40it/s]"
     ]
    },
    {
     "name": "stdout",
     "output_type": "stream",
     "text": [
      "\n",
      "Epoch: 135\n",
      "Loss \t Train: 0.0298 \t Validation: 0.0494\n",
      "Acc: \t Train: 0.9907 \t Validation: 0.9832\n"
     ]
    },
    {
     "name": "stderr",
     "output_type": "stream",
     "text": [
      "100%|██████████| 28/28 [00:00<00:00, 107.97it/s]\n",
      " 46%|████▋     | 13/28 [00:00<00:00, 122.10it/s]"
     ]
    },
    {
     "name": "stdout",
     "output_type": "stream",
     "text": [
      "\n",
      "Epoch: 136\n",
      "Loss \t Train: 0.0291 \t Validation: 0.0493\n",
      "Acc: \t Train: 0.9910 \t Validation: 0.9832\n"
     ]
    },
    {
     "name": "stderr",
     "output_type": "stream",
     "text": [
      "100%|██████████| 28/28 [00:00<00:00, 108.01it/s]\n",
      " 39%|███▉      | 11/28 [00:00<00:00, 107.13it/s]"
     ]
    },
    {
     "name": "stdout",
     "output_type": "stream",
     "text": [
      "\n",
      "Epoch: 137\n",
      "Loss \t Train: 0.0288 \t Validation: 0.0490\n",
      "Acc: \t Train: 0.9910 \t Validation: 0.9832\n"
     ]
    },
    {
     "name": "stderr",
     "output_type": "stream",
     "text": [
      "100%|██████████| 28/28 [00:00<00:00, 107.53it/s]\n",
      " 43%|████▎     | 12/28 [00:00<00:00, 85.58it/s]"
     ]
    },
    {
     "name": "stdout",
     "output_type": "stream",
     "text": [
      "\n",
      "Epoch: 138\n",
      "Loss \t Train: 0.0285 \t Validation: 0.0488\n",
      "Acc: \t Train: 0.9910 \t Validation: 0.9832\n"
     ]
    },
    {
     "name": "stderr",
     "output_type": "stream",
     "text": [
      "100%|██████████| 28/28 [00:00<00:00, 108.59it/s]\n",
      " 25%|██▌       | 7/28 [00:00<00:00, 67.86it/s]"
     ]
    },
    {
     "name": "stdout",
     "output_type": "stream",
     "text": [
      "\n",
      "Epoch: 139\n",
      "Loss \t Train: 0.0283 \t Validation: 0.0486\n",
      "Acc: \t Train: 0.9910 \t Validation: 0.9832\n"
     ]
    },
    {
     "name": "stderr",
     "output_type": "stream",
     "text": [
      "100%|██████████| 28/28 [00:00<00:00, 106.23it/s]\n",
      " 54%|█████▎    | 15/28 [00:00<00:00, 101.26it/s]"
     ]
    },
    {
     "name": "stdout",
     "output_type": "stream",
     "text": [
      "\n",
      "Epoch: 140\n",
      "Loss \t Train: 0.0279 \t Validation: 0.0484\n",
      "Acc: \t Train: 0.9910 \t Validation: 0.9832\n"
     ]
    },
    {
     "name": "stderr",
     "output_type": "stream",
     "text": [
      "100%|██████████| 28/28 [00:00<00:00, 108.74it/s]\n",
      " 43%|████▎     | 12/28 [00:00<00:00, 115.24it/s]"
     ]
    },
    {
     "name": "stdout",
     "output_type": "stream",
     "text": [
      "\n",
      "Epoch: 141\n",
      "Loss \t Train: 0.0277 \t Validation: 0.0480\n",
      "Acc: \t Train: 0.9916 \t Validation: 0.9832\n"
     ]
    },
    {
     "name": "stderr",
     "output_type": "stream",
     "text": [
      "100%|██████████| 28/28 [00:00<00:00, 108.35it/s]\n",
      " 36%|███▌      | 10/28 [00:00<00:00, 74.68it/s]"
     ]
    },
    {
     "name": "stdout",
     "output_type": "stream",
     "text": [
      "\n",
      "Epoch: 142\n",
      "Loss \t Train: 0.0272 \t Validation: 0.0483\n",
      "Acc: \t Train: 0.9919 \t Validation: 0.9832\n"
     ]
    },
    {
     "name": "stderr",
     "output_type": "stream",
     "text": [
      "100%|██████████| 28/28 [00:00<00:00, 106.96it/s]\n",
      " 54%|█████▎    | 15/28 [00:00<00:00, 140.75it/s]"
     ]
    },
    {
     "name": "stdout",
     "output_type": "stream",
     "text": [
      "\n",
      "Epoch: 143\n",
      "Loss \t Train: 0.0264 \t Validation: 0.0477\n",
      "Acc: \t Train: 0.9924 \t Validation: 0.9832\n"
     ]
    },
    {
     "name": "stderr",
     "output_type": "stream",
     "text": [
      "100%|██████████| 28/28 [00:00<00:00, 109.72it/s]\n",
      " 46%|████▋     | 13/28 [00:00<00:00, 121.73it/s]"
     ]
    },
    {
     "name": "stdout",
     "output_type": "stream",
     "text": [
      "\n",
      "Epoch: 144\n",
      "Loss \t Train: 0.0262 \t Validation: 0.0475\n",
      "Acc: \t Train: 0.9921 \t Validation: 0.9832\n"
     ]
    },
    {
     "name": "stderr",
     "output_type": "stream",
     "text": [
      "100%|██████████| 28/28 [00:00<00:00, 109.14it/s]\n",
      " 50%|█████     | 14/28 [00:00<00:00, 135.49it/s]"
     ]
    },
    {
     "name": "stdout",
     "output_type": "stream",
     "text": [
      "\n",
      "Epoch: 145\n",
      "Loss \t Train: 0.0259 \t Validation: 0.0475\n",
      "Acc: \t Train: 0.9921 \t Validation: 0.9832\n"
     ]
    },
    {
     "name": "stderr",
     "output_type": "stream",
     "text": [
      "100%|██████████| 28/28 [00:00<00:00, 107.76it/s]\n",
      " 50%|█████     | 14/28 [00:00<00:00, 127.64it/s]"
     ]
    },
    {
     "name": "stdout",
     "output_type": "stream",
     "text": [
      "\n",
      "Epoch: 146\n",
      "Loss \t Train: 0.0257 \t Validation: 0.0473\n",
      "Acc: \t Train: 0.9916 \t Validation: 0.9832\n"
     ]
    },
    {
     "name": "stderr",
     "output_type": "stream",
     "text": [
      "100%|██████████| 28/28 [00:00<00:00, 108.20it/s]\n",
      " 43%|████▎     | 12/28 [00:00<00:00, 118.39it/s]"
     ]
    },
    {
     "name": "stdout",
     "output_type": "stream",
     "text": [
      "\n",
      "Epoch: 147\n",
      "Loss \t Train: 0.0253 \t Validation: 0.0474\n",
      "Acc: \t Train: 0.9927 \t Validation: 0.9832\n"
     ]
    },
    {
     "name": "stderr",
     "output_type": "stream",
     "text": [
      "100%|██████████| 28/28 [00:00<00:00, 108.30it/s]\n",
      " 43%|████▎     | 12/28 [00:00<00:00, 111.02it/s]"
     ]
    },
    {
     "name": "stdout",
     "output_type": "stream",
     "text": [
      "\n",
      "Epoch: 148\n",
      "Loss \t Train: 0.0250 \t Validation: 0.0471\n",
      "Acc: \t Train: 0.9927 \t Validation: 0.9832\n"
     ]
    },
    {
     "name": "stderr",
     "output_type": "stream",
     "text": [
      "100%|██████████| 28/28 [00:00<00:00, 109.83it/s]"
     ]
    },
    {
     "name": "stdout",
     "output_type": "stream",
     "text": [
      "\n",
      "Epoch: 149\n",
      "Loss \t Train: 0.0244 \t Validation: 0.0469\n",
      "Acc: \t Train: 0.9933 \t Validation: 0.9832\n"
     ]
    },
    {
     "name": "stderr",
     "output_type": "stream",
     "text": [
      "\n"
     ]
    }
   ],
   "source": [
    "# Setup logging to Tensorboard\n",
    "from torch.utils.tensorboard import SummaryWriter\n",
    "from datetime import datetime\n",
    "\n",
    "now = datetime.now()\n",
    "now = now.strftime(\"%Y-%m-%d-%H:%M:%S\")\n",
    "MODEL_NAME = 'bag_of_words_embeddings_from_scratch'\n",
    "log_file = f'./runs/{MODEL_NAME}/{now}'\n",
    "writer = SummaryWriter(log_file)\n",
    "\n",
    "# Train lopp\n",
    "from tqdm import tqdm\n",
    "N_EPOCHS = 150\n",
    "for epoch in range(N_EPOCHS):\n",
    "    \n",
    "    # train\n",
    "    running_loss = 0.0\n",
    "    model.train()\n",
    "    train_size = 0\n",
    "    running_accuracy = 0.0\n",
    "    for batch in tqdm(train_iter):\n",
    "        \n",
    "        # forward pass to compute the batch loss\n",
    "        x = batch.text\n",
    "        y = batch.label.long()\n",
    "        predictions = model(x)        \n",
    "        loss = criterion(predictions, y)\n",
    "            \n",
    "        # backward pass to update model parameters\n",
    "        optimizer.zero_grad()\n",
    "        loss.backward()\n",
    "        optimizer.step()\n",
    "        \n",
    "        # compute train metrics\n",
    "        running_loss += loss.data * x.size(0)\n",
    "        _, predicted_classes = torch.max(predictions, 1)\n",
    "        running_accuracy += predicted_classes.eq(y.data).sum().item()\n",
    "        train_size += x.size(0)\n",
    "        \n",
    "    epoch_loss = running_loss / train_size\n",
    "    epoch_accuracy = running_accuracy / train_size\n",
    "    \n",
    "    # validation\n",
    "    val_loss = 0.0\n",
    "    model.eval()\n",
    "    val_size = 0\n",
    "    val_accuracy = 0\n",
    "    with torch.no_grad():\n",
    "        for batch in validation_iter:\n",
    "            x = batch.text\n",
    "            y = batch.label.long()\n",
    "            predictions = model(x)\n",
    "            loss = criterion(predictions, y)\n",
    "            \n",
    "            # compute validation metrics\n",
    "            val_loss += loss.data * x.size(0)\n",
    "            _, predicted_classes = torch.max(predictions, 1)\n",
    "            val_accuracy += predicted_classes.eq(y.data).sum().item()           \n",
    "            val_size += x.size(0)\n",
    "            \n",
    "        val_loss /= val_size\n",
    "        val_accuracy /= val_size\n",
    "        \n",
    "        print('\\nEpoch: {}'.format(epoch))\n",
    "        print('Loss \\t Train: {:.4f} \\t Validation: {:.4f}'.format(epoch_loss, val_loss))\n",
    "        print('Acc: \\t Train: {:.4f} \\t Validation: {:.4f}'.format(epoch_accuracy, val_accuracy))\n",
    "\n",
    "    # log metrics to tensorboard\n",
    "    writer.add_scalars('Loss', {'train': epoch_loss, 'validation': val_loss}, epoch + 1)\n",
    "    writer.add_scalars('Accuracy', {'train': epoch_accuracy, 'validation': val_accuracy}, epoch + 1)\n",
    "    \n",
    "writer.close()"
   ]
  },
  {
   "cell_type": "markdown",
   "metadata": {},
   "source": [
    "# Step 5. Test the model"
   ]
  },
  {
   "cell_type": "code",
   "execution_count": 20,
   "metadata": {},
   "outputs": [
    {
     "name": "stdout",
     "output_type": "stream",
     "text": [
      "Test accuracy: 0.9731\n"
     ]
    }
   ],
   "source": [
    "test_accuracy = 0.0\n",
    "test_size = 0\n",
    "with torch.no_grad():\n",
    "    for batch in test_iter:\n",
    "        # forward pass\n",
    "        x = batch.text\n",
    "        y = batch.label.long()\n",
    "        predictions = model(x)        \n",
    "        loss = criterion(predictions, y)\n",
    "\n",
    "        # compute accuracy\n",
    "        _, predicted_classes = torch.max(predictions, 1)\n",
    "        test_accuracy += predicted_classes.eq(y.data).sum().item()\n",
    "        test_size += x.size(0)\n",
    "\n",
    "test_accuracy /= test_size\n",
    "print('Test accuracy: {:.4f}'.format(test_accuracy))"
   ]
  },
  {
   "cell_type": "markdown",
   "metadata": {},
   "source": [
    "# Extra. Interact with the model\n",
    "Pay attention how pre-processing and post-processing are necessary to be able to use the model at inference time.\n",
    "\n",
    "https://github.com/bentrevett/pytorch-sentiment-analysis/issues/40"
   ]
  },
  {
   "cell_type": "code",
   "execution_count": 21,
   "metadata": {},
   "outputs": [
    {
     "name": "stdout",
     "output_type": "stream",
     "text": [
      "This is your friend Carl. Come to the Casino and get a discount!\n",
      "ham\n",
      "------\n",
      "This is your friend Carl, do you want to meet later?\n",
      "ham\n",
      "------\n",
      "Would you be interested in buying a car for nothing?\n",
      "ham\n",
      "------\n",
      "Send your card details today and get a prize!\n",
      "spam\n",
      "------\n",
      "I won two tickets to the show, do you want to come with me?\n",
      "ham\n",
      "------\n",
      "I won two tickets to the show, just send an SMS to this number and get them\n",
      "ham\n",
      "------\n"
     ]
    }
   ],
   "source": [
    "sentences = [\n",
    "    'This is your friend Carl. Come to the Casino and get a discount!',\n",
    "    'This is your friend Carl, do you want to meet later?',\n",
    "    'Would you be interested in buying a car for nothing?',\n",
    "    'Send your card details today and get a prize!',\n",
    "    'I won two tickets to the show, do you want to come with me?',\n",
    "    'I won two tickets to the show, just send an SMS to this number and get them',\n",
    "]\n",
    "\n",
    "for s in sentences:\n",
    "    # pre-process text into integer tokens\n",
    "    model_input = [TEXT.vocab.stoi[token] for token in tokenizer_fn(s)]\n",
    "    # add 0-dimension\n",
    "    model_input = torch.LongTensor(model_input).unsqueeze(0)\n",
    "    \n",
    "    # run model prediction\n",
    "    predictions = model(model_input)\n",
    "    \n",
    "    # post-processing\n",
    "    _, predicted_class = torch.max(predictions, 1)\n",
    "    predicted_class = predicted_class.item()\n",
    "    predicted_class_str = IDX_TO_LABEL[predicted_class]\n",
    "    \n",
    "    # print\n",
    "    print(s)\n",
    "    print(predicted_class_str)\n",
    "    print('------')"
   ]
  },
  {
   "cell_type": "markdown",
   "metadata": {},
   "source": [
    "# Extra: Visualize the learned word embeddings with the [Embedding Projector](https://projector.tensorflow.org/)"
   ]
  },
  {
   "cell_type": "markdown",
   "metadata": {},
   "source": [
    "### Extract embedding parameters"
   ]
  },
  {
   "cell_type": "code",
   "execution_count": null,
   "metadata": {},
   "outputs": [],
   "source": [
    "for name, parameter in model.named_parameters():\n",
    "    if name == 'embed.weight':\n",
    "        embeddings = parameter\n",
    "\n",
    "print(embeddings.shape)"
   ]
  },
  {
   "cell_type": "markdown",
   "metadata": {},
   "source": [
    "### Generate tsv files"
   ]
  },
  {
   "cell_type": "code",
   "execution_count": null,
   "metadata": {},
   "outputs": [],
   "source": [
    "import io\n",
    "\n",
    "embeddings = embeddings.cpu().detach().numpy()\n",
    "vocab = TEXT.vocab.itos\n",
    "\n",
    "out_v = io.open('vectors.tsv', 'w', encoding='utf-8')\n",
    "out_m = io.open('metadata.tsv', 'w', encoding='utf-8')\n",
    "\n",
    "for index, word in enumerate(vocab):\n",
    "    if index in [0, 1]:\n",
    "        # skip 0, it's the unknown token.\n",
    "        # skip 1, it's the padding token.\n",
    "        continue\n",
    "        \n",
    "    vec = embeddings[index, :] \n",
    "    out_v.write('\\t'.join([str(x) for x in vec]) + \"\\n\")\n",
    "    out_m.write(word + \"\\n\")\n",
    "\n",
    "out_v.close()\n",
    "out_m.close()"
   ]
  },
  {
   "cell_type": "markdown",
   "metadata": {},
   "source": [
    "### Download files to your local computer (in case you are running this notebook in Google Colab)"
   ]
  },
  {
   "cell_type": "code",
   "execution_count": null,
   "metadata": {},
   "outputs": [],
   "source": [
    "try:\n",
    "    from google.colab import files\n",
    "    files.download('vectors.tsv')\n",
    "    files.download('metadata.tsv')\n",
    "except Exception as e:\n",
    "    pass"
   ]
  }
 ],
 "metadata": {
  "kernelspec": {
   "display_name": "Python 3",
   "language": "python",
   "name": "python3"
  },
  "language_info": {
   "codemirror_mode": {
    "name": "ipython",
    "version": 3
   },
   "file_extension": ".py",
   "mimetype": "text/x-python",
   "name": "python",
   "nbconvert_exporter": "python",
   "pygments_lexer": "ipython3",
   "version": "3.7.5"
  }
 },
 "nbformat": 4,
 "nbformat_minor": 4
}
